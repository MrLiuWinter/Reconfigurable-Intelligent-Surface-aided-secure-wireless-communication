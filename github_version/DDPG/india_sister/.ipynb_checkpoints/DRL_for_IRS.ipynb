{
 "cells": [
  {
   "cell_type": "code",
   "execution_count": 1,
   "outputs": [],
   "source": [
    "import torch.nn as nn\n",
    "import torch.nn.functional as F\n",
    "import numpy as np\n",
    "import cmath"
   ],
   "metadata": {
    "collapsed": false,
    "pycharm": {
     "name": "#%%\n"
    }
   }
  },
  {
   "cell_type": "code",
   "execution_count": 2,
   "outputs": [],
   "source": [
    "class Actor(nn.Module):\n",
    "    def __init__(self, input_size, hidden_size_1, hidden_size_2, output_size, learning_rate = 3e-4):\n",
    "        super(Actor, self).__init__()\n",
    "        self.linear1 = nn.Linear(input_size, hidden_size_1)\n",
    "        self.linear2 = nn.Linear(hidden_size_1, hidden_size_2)\n",
    "        self.linear3 = nn.Linear(hidden_size_2, output_size)\n",
    "\n",
    "        \n",
    "    def forward(self, state):\n",
    "        \"\"\"\n",
    "        Param state is a torch tensor\n",
    "        \"\"\"\n",
    "        x = F.relu(self.linear2(F.relu(self.linear1(state))))\n",
    "        x = torch.tanh(self.linear3(x))\n",
    "        return x\n",
    "\n",
    "\n",
    "\n",
    "class Critic(nn.Module):\n",
    "    def __init__(self, input_size, hidden_size_1, hidden_size_2, output_size):\n",
    "        super(Critic, self).__init__()\n",
    "        self.linear1 = nn.Linear(input_size, hidden_size_1)\n",
    "        self.linear2 = nn.Linear(hidden_size_1, hidden_size_2)\n",
    "        self.linear3 = nn.Linear(hidden_size_2, output_size)\n",
    "\n",
    "\n",
    "    def forward(self, state, action):\n",
    "        \"\"\"\n",
    "        Params state and actions are torch tensors\n",
    "        \"\"\"\n",
    "        #print(state.shape)\n",
    "        #print(action.shape)\n",
    "        x = torch.cat([state, action], dim = 1)\n",
    "        x = F.relu(self.linear2(F.relu(self.linear1(x))))\n",
    "        x = torch.tanh(self.linear3(x))\n",
    "\n",
    "        return x"
   ],
   "metadata": {
    "collapsed": false,
    "pycharm": {
     "name": "#%%\n"
    }
   }
  },
  {
   "cell_type": "code",
   "execution_count": 3,
   "outputs": [],
   "source": [
    "######## target 与 eval 数据同步 ############\n",
    "num_states = 50\n",
    "hidden_size_1 = 300\n",
    "hidden_size_2 = 200\n",
    "num_actions = 50 + 1\n",
    "actor_eval = Actor(num_states, hidden_size_1, hidden_size_2, num_actions)\n",
    "actor_target = Actor(num_states, hidden_size_1, hidden_size_2, num_actions)\n",
    "critic_eval = Critic(num_states + num_actions, hidden_size_1, hidden_size_2, num_actions)\n",
    "critic_target = Critic(num_states + num_actions, hidden_size_1, hidden_size_2, num_actions)\n",
    "\n",
    "# We initialize the target networks as copies of the original networks\n",
    "# zip一一对应，压缩数据\n",
    "for target_param, param in zip(actor_target.parameters(), actor_eval.parameters()):\n",
    "    target_param.data.copy_(param.data)\n",
    "for target_param, param in zip(critic_target.parameters(), critic_eval.parameters()):\n",
    "    target_param.data.copy_(param.data)"
   ],
   "metadata": {
    "collapsed": false,
    "pycharm": {
     "name": "#%%\n"
    }
   }
  },
  {
   "cell_type": "code",
   "execution_count": 4,
   "outputs": [],
   "source": [
    "from collections import deque\n",
    "\n",
    "class Replay:\n",
    "    def __init__(self, max_size):\n",
    "        self.buffer = deque(maxlen=max_size)\n",
    "    \n",
    "    def push(self, state, action, reward, next_state):\n",
    "        experience = (state, action, np.array([reward]), next_state)\n",
    "        self.buffer.append(experience)\n",
    "\n",
    "    def sample(self, batch_size):\n",
    "        state_batch = []\n",
    "        action_batch = []\n",
    "        reward_batch = []\n",
    "        next_state_batch = []\n",
    "        done_batch = []\n",
    "\n",
    "        batch = random.sample(self.buffer, batch_size)\n",
    "\n",
    "        for experience in batch:\n",
    "            state, action, reward, next_state = experience\n",
    "            #print(state.shape)\n",
    "            state_batch.append(state)\n",
    "            action_batch.append(action)\n",
    "            reward_batch.append(reward)\n",
    "            next_state_batch.append(next_state)\n",
    "            #done_batch.append(done)\n",
    "        return state_batch, action_batch, reward_batch, next_state_batch\n",
    "\n",
    "    def __len__(self):\n",
    "        return len(self.buffer)"
   ],
   "metadata": {
    "collapsed": false,
    "pycharm": {
     "name": "#%%\n"
    }
   }
  },
  {
   "cell_type": "code",
   "execution_count": 5,
   "outputs": [],
   "source": [
    "\"\"\"\n",
    "Taken from https://github.com/vitchyr/rlkit/blob/master/rlkit/exploration_strategies/ou_strategy.py\n",
    "\"\"\"\n",
    "class OUNoise(object):\n",
    "    def __init__(self, action_dim, mu=0.0, theta=0.15, max_sigma=0.3, min_sigma=0.3, decay_period=100000):\n",
    "        self.mu           = mu\n",
    "        self.theta        = theta\n",
    "        self.sigma        = max_sigma\n",
    "        self.max_sigma    = max_sigma\n",
    "        self.min_sigma    = min_sigma\n",
    "        self.decay_period = decay_period\n",
    "        self.low          = 0\n",
    "        self.high         = 2*np.pi\n",
    "        self.action_dim = action_dim\n",
    "        self.reset()\n",
    "        \n",
    "    def reset(self):\n",
    "        self.state = np.ones(self.action_dim) * self.mu\n",
    "        \n",
    "    def evolve_state(self):\n",
    "        x  = self.state\n",
    "        dx = self.theta * (self.mu - x) + self.sigma * np.random.randn(self.action_dim)\n",
    "        self.state = x + dx\n",
    "        return self.state\n",
    "    \n",
    "    def get_action(self, action, t=0): \n",
    "        ou_state = self.evolve_state()\n",
    "        self.sigma = self.max_sigma - (self.max_sigma - self.min_sigma) * min(1.0, t / self.decay_period)\n",
    "        return np.clip(action + ou_state, self.low, self.high)\n",
    "    #clip将数据限定在指定范围内"
   ],
   "metadata": {
    "collapsed": false,
    "pycharm": {
     "name": "#%%\n"
    }
   }
  },
  {
   "cell_type": "code",
   "execution_count": 6,
   "outputs": [],
   "source": [
    "import torch\n",
    "import torch.autograd\n",
    "import torch.optim as optim\n",
    "import torch.nn as nn\n",
    "\n",
    "\n",
    "class DDPGagent:\n",
    "    def __init__(self, num_states, actor_learning_rate=1e-4, critic_learning_rate=1e-3, disc_fact=0.99, tau=1e-2, max_memory_size=50000):\n",
    "        # Params\n",
    "        self.num_states = num_states\n",
    "        self.num_actions = num_states + 1\n",
    "        self.disc_fact = disc_fact\n",
    "        self.tau = tau\n",
    "\n",
    "        # Networks\n",
    "        self.actor_eval = Actor(num_states+1, hidden_size_1, hidden_size_2, num_states)\n",
    "        self.actor_target = Actor(num_states+1, hidden_size_1, hidden_size_2, num_states)\n",
    "        self.critic_eval = Critic(2*num_states+1, hidden_size_1, hidden_size_2, 1)\n",
    "        self.critic_target = Critic(2*num_states+1, hidden_size_1, hidden_size_2, 1)\n",
    "\n",
    "        for target_param, param in zip(self.actor_target.parameters(), self.actor_eval.parameters()):\n",
    "            target_param.data.copy_(param.data)\n",
    "\n",
    "        for target_param, param in zip(self.critic_target.parameters(), self.critic_eval.parameters()):\n",
    "            target_param.data.copy_(param.data)\n",
    "        \n",
    "        # Training\n",
    "        self.memory = Replay(max_memory_size)        \n",
    "        self.critic_criterion  = nn.MSELoss()\n",
    "        self.actor_optimizer  = optim.Adam(self.actor_eval.parameters(), lr=actor_learning_rate)\n",
    "        self.critic_optimizer = optim.Adam(self.critic_eval.parameters(), lr=critic_learning_rate)\n",
    "    \n",
    "    def get_action(self, state):\n",
    "        state = Variable(torch.from_numpy(state).float().unsqueeze(0))\n",
    "        #print(state.shape) tensor 1*1*n  前面加一个通道。为什么加维度？\n",
    "        action = self.actor_eval.forward(state)\n",
    "        #print(action.shape) 1*1*n\n",
    "        action = action.detach().numpy()[0,0]\n",
    "        #print(action) 1*n\n",
    "        #numpy.array\n",
    "  \n",
    "        return action.reshape((1, self.num_states))\n",
    "    \n",
    "    def update(self, batch_size):\n",
    "        states, actions, rewards, next_states = self.memory.sample(batch_size)\n",
    "        states = torch.FloatTensor(states)\n",
    "        #states = states.unsqueeze(1)\n",
    "        actions = torch.FloatTensor(actions)\n",
    "        rewards = torch.FloatTensor(rewards)\n",
    "        next_states = torch.FloatTensor(next_states)\n",
    "        # Critic loss        \n",
    "        Qvals = self.critic_eval.forward(states, actions)\n",
    "        next_actions = self.actor_target.forward(next_states)\n",
    "        next_Q = self.critic_target.forward(next_states, next_actions.detach())\n",
    "        Qprime = rewards.clone()\n",
    "        for i in range(len(rewards)):\n",
    "          Qprime[i] = rewards[i] + self.disc_fact* next_Q[i]\n",
    "        critic_loss = self.critic_criterion(Qvals, Qprime)\n",
    "        # Actor loss\n",
    "        policy_loss = -self.critic_eval.forward(states, self.actor_eval.forward(states)).mean()\n",
    "        \n",
    "        # update networks\n",
    "        self.actor_optimizer.zero_grad()\n",
    "        policy_loss.backward()\n",
    "        self.actor_optimizer.step()\n",
    "\n",
    "        self.critic_optimizer.zero_grad()\n",
    "        critic_loss.backward() \n",
    "        self.critic_optimizer.step()\n",
    "\n",
    "        # update target networks \n",
    "        for target_param, param in zip(self.actor_target.parameters(), self.actor_eval.parameters()):\n",
    "            target_param.data.copy_(param.data * self.tau + target_param.data * (1.0 - self.tau))\n",
    "       \n",
    "        for target_param, param in zip(self.critic_target.parameters(), self.critic_eval.parameters()):\n",
    "            target_param.data.copy_(param.data * self.tau + target_param.data * (1.0 - self.tau))"
   ],
   "metadata": {
    "collapsed": false,
    "pycharm": {
     "name": "#%%\n"
    }
   }
  },
  {
   "cell_type": "code",
   "execution_count": 7,
   "outputs": [],
   "source": [
    "#M is the number of transmitter's antennas\n",
    "#N is the number of receiver' antennas\n",
    "#dist is the distance between the transmitter and the receiver\n",
    "#pl is path-loss exponent\n",
    "#Kdb is the Rician factor in dB\n",
    "#matrix BS-User\n",
    "def Rician_Fading_Channels(M,N,dist,pl, Kdb):  \n",
    "    K = 10**(Kdb/10) #dB to mW\n",
    "    mu = np.sqrt( K/((K+1))) #direct path\n",
    "    s = np.sqrt( 1/(2*(K+1))) #scattered paths\n",
    "    Hw = mu + s*(np.random.randn(M,N)+1j*np.random.randn(M,N)) #Rician channel\n",
    "    H = np.sqrt(1/(dist**pl))*Hw  #Rician channel with pathloss  \n",
    "    return H"
   ],
   "metadata": {
    "collapsed": false,
    "pycharm": {
     "name": "#%%\n"
    }
   }
  },
  {
   "cell_type": "code",
   "execution_count": 8,
   "outputs": [],
   "source": [
    "import math\n",
    "# indirect\n",
    "def rayleigh_fading(loss_exp, M, d):\n",
    "  path_loss = -30 + 10*loss_exp*math.log10(d/1)\n",
    "  z = []\n",
    "  for i in range(500):\n",
    "    vec = np.sqrt(path_loss)*np.random.normal(loc=0, scale=np.sqrt(2)/2, size=(M, 2)).view(np.complex128) \n",
    "    z.append(vec.T)\n",
    "  return np.mean(z, 0).reshape((M,1))"
   ],
   "metadata": {
    "collapsed": false,
    "pycharm": {
     "name": "#%%\n"
    }
   }
  },
  {
   "cell_type": "code",
   "execution_count": 9,
   "outputs": [],
   "source": [
    "#steering matrix\n",
    "def aN(N, theta, d):\n",
    "  a = []\n",
    "  for i in range(N):\n",
    "    a.append(cmath.exp(-1j*2*np.pi*i*theta/2))\n",
    "  return np.reshape(np.matrix(a), (1, N))"
   ],
   "metadata": {
    "collapsed": false,
    "pycharm": {
     "name": "#%%\n"
    }
   }
  },
  {
   "cell_type": "code",
   "execution_count": 10,
   "outputs": [],
   "source": [
    "#matrix BS-RIS\n",
    "def rician_fading_G(loss_exp, K, Nx, Ny, M,theta_AOAh, theta_AOAv, theta_AODb, d):\n",
    "    #large-scale fading 对数形式\n",
    "    path_loss = -30 + 10*loss_exp*math.log10(d)\n",
    "    f1 = np.sqrt(1/(1+(1/K)))\n",
    "    f2 = np.sqrt(1/(K+1))\n",
    "    aNx = aN(Nx, np.sin(theta_AOAh), d).getH()\n",
    "    #print(aNx)\n",
    "    aNy = aN(Ny, np.sin(theta_AOAv), d).getH()\n",
    "    #print(aNy)\n",
    "    aN_= aN(M, np.sin(theta_AODb), d)\n",
    "    #print(aN_)\n",
    "    bar = np.matmul(np.kron(aNx, aNy), aN_) #克罗内克积\n",
    "    #print(bar)\n",
    "    z = []\n",
    "    for i in range(500):\n",
    "        vec = []\n",
    "        for i in range(Nx*Ny): #reshape to a complex\n",
    "            vec.append(np.random.normal(loc=0, scale=np.sqrt(2)/2, size=(M, 2)).view(np.complex128) )\n",
    "        curl = np.array(vec).squeeze(2) #curl is 去掉维度为1的轴，给每个element初始化相位值 Nx*Ny * M\n",
    "        z.append(curl)\n",
    "    vecs = np.sqrt(path_loss)*(f1*bar + f2*np.mean(z,0))  # large*small(rician) 均值结果是列表元素的规格  Nx*Ny * M\n",
    "    #莱斯衰落g~=sqrt(k/k+1)*Los+Nlos*sqrt(1/k+1)             Los=dr*dt'\n",
    "    return vecs"
   ],
   "metadata": {
    "collapsed": false,
    "pycharm": {
     "name": "#%%\n"
    }
   }
  },
  {
   "cell_type": "code",
   "execution_count": 11,
   "outputs": [],
   "source": [
    "#vector RIS-User\n",
    "def rician_fading_h(loss_exp, K, Nx, Ny, theta_AODh, theta_AODv, d):\n",
    "    path_loss = -30 + 10*loss_exp*math.log10(d)\n",
    "    f1 = np.sqrt(K/(K+1))\n",
    "    f2 = np.sqrt(1/(K+1))\n",
    "    phi = np.cos(theta_AODv) * np.sin(theta_AODh)\n",
    "    a1 = aN(Ny, np.sin(theta_AODv),d).getH()\n",
    "    a2 = aN(Nx, phi, d).getH()\n",
    "    bar = np.kron(a1, a2) #克罗内克积求导向矢量\n",
    "    z = []\n",
    "    for i in range(500):\n",
    "        curl = np.random.normal(loc=0, scale=np.sqrt(2)/2, size=(Nx*Ny, 2)).view(np.complex128)\n",
    "        z.append(curl)\n",
    "    vecs = np.sqrt(path_loss)*(f1*bar + f2*np.mean(z,0))  #1 * M\n",
    "    return vecs"
   ],
   "metadata": {
    "collapsed": false,
    "pycharm": {
     "name": "#%%\n"
    }
   }
  },
  {
   "cell_type": "code",
   "execution_count": 12,
   "outputs": [],
   "source": [
    "#shift to change phase\n",
    "def Phase_shifts(angles, num_states, hr_, G_, hd_,  Pmax, sigma):\n",
    "    angles_ = []\n",
    "    for i in range(len(angles)):\n",
    "        #steering vector\n",
    "        angles_.append(cmath.exp(1j*angles[i]))\n",
    "    shifts = np.diag(angles_)#相位对角阵\n",
    "    return angles, shifts"
   ],
   "metadata": {
    "collapsed": false,
    "pycharm": {
     "name": "#%%\n"
    }
   }
  },
  {
   "cell_type": "code",
   "execution_count": 13,
   "outputs": [],
   "source": [
    "def SNR(hr, shifts, G, hd,  Pmax, sigma):\n",
    "  #print(hd.shape) receive signal  matrix.getH返回复数矩阵的共轭转置;\n",
    "  sum = np.matmul(np.matmul(hr.getH(), shifts), G) + hd.getH()\n",
    "  # beamforming  p * ||beamforming||\n",
    "  b = np.sqrt(Pmax)* sum.getH() / np.sqrt(np.matmul(sum, sum.getH()).item())\n",
    "  snr = (1/sigma)* np.abs(np.matmul(sum, b))**2\n",
    "  return snr.item()\n",
    "#item() return Python scalar of matrix value at Specify location"
   ],
   "metadata": {
    "collapsed": false,
    "pycharm": {
     "name": "#%%\n"
    }
   }
  },
  {
   "cell_type": "code",
   "execution_count": 14,
   "outputs": [
    {
     "name": "stderr",
     "output_type": "stream",
     "text": [
      "C:\\Users\\mrliuwinter\\AppData\\Local\\Temp\\ipykernel_5768\\3355137945.py:46: UserWarning: Creating a tensor from a list of numpy.ndarrays is extremely slow. Please consider converting the list to a single numpy.ndarray with numpy.array() before converting to a tensor. (Triggered internally at  C:\\actions-runner\\_work\\pytorch\\pytorch\\builder\\windows\\pytorch\\torch\\csrc\\utils\\tensor_new.cpp:210.)\n",
      "  states = torch.FloatTensor(states)\n"
     ]
    },
    {
     "data": {
      "text/plain": "<Figure size 432x288 with 1 Axes>",
      "image/png": "[encoded data removed]"
     },
     "metadata": {
      "needs_background": "light"
     },
     "output_type": "display_data"
    }
   ],
   "source": [
    "import numpy as np\n",
    "import matplotlib.pyplot as plt\n",
    "import random\n",
    "from torch.autograd import Variable\n",
    "\n",
    "Nx = 10\n",
    "Ny = 5\n",
    "M = 10\n",
    "T = 1000\n",
    "d_u = 54\n",
    "d_e = 46\n",
    "Pmax = 5\n",
    "d = 51\n",
    "num_states = Nx * Ny\n",
    "agent = DDPGagent(Nx * Ny, actor_learning_rate=1e-3, critic_learning_rate=1e-3, disc_fact=0.95, tau=0.005,\n",
    "                  max_memory_size=50000)\n",
    "batch_size = 16\n",
    "rewards = []\n",
    "avg_rewards = []\n",
    "noise = OUNoise(Nx * Ny)\n",
    "\n",
    "for episode in range(50):\n",
    "    hr_ = np.matrix(rician_fading_h(2.8, 0, Nx, Ny, np.pi / 6, np.pi / 6, d))\n",
    "    G_ = np.matrix(rician_fading_G(2, np.inf, Nx, Ny, M, np.pi / 3, 5 * np.pi / 3, np.pi / 6, d))\n",
    "    hd_ = np.matrix(rayleigh_fading(2.8, M, d))\n",
    "    angles = []\n",
    "    for i in range(Nx * Ny):\n",
    "        angles.append(2 * np.pi * random.random())\n",
    "    angles, shifts = Phase_shifts(angles, Nx * Ny, hr_, G_, hd_, Pmax, 80)\n",
    "    noise.reset()\n",
    "    snr = SNR(hr_, shifts, G_, hd_, Pmax, 80)\n",
    "    angles.append(snr)\n",
    "    state = np.matrix(angles)\n",
    "    episode_reward = 0\n",
    "    for step in range(T):\n",
    "        action = agent.get_action(state)\n",
    "        action__ = noise.get_action(action)\n",
    "        # Angle + noise\n",
    "        action_ = action__[0].tolist()\n",
    "        new_angles, shifts = Phase_shifts(action_, Nx * Ny, hr_, G_, hd_, Pmax, 80)\n",
    "        snr = SNR(hr_, shifts, G_, hd_, Pmax, 80)\n",
    "        new_angles.append(snr)\n",
    "        new_state = np.matrix(angles)\n",
    "        reward = new_state[:, -1].item()  # take snr\n",
    "        agent.memory.push(np.array(state)[0], action__[0], reward, np.array(new_state)[0])\n",
    "        if len(agent.memory) > batch_size:\n",
    "            agent.update(batch_size)\n",
    "        state = new_state\n",
    "        episode_reward += reward\n",
    "    rewards.append(episode_reward / T)\n",
    "    avg_rewards.append(np.mean(rewards[-10:]))  # Find the mean value in a group of last 10 items\n",
    "\n",
    "plt.plot(rewards)\n",
    "plt.plot(avg_rewards)\n",
    "plt.plot()\n",
    "plt.xlabel('Episode')\n",
    "plt.ylabel('Reward')\n",
    "plt.grid()\n",
    "plt.show()"
   ],
   "metadata": {
    "collapsed": false,
    "pycharm": {
     "name": "#%%\n"
    }
   }
  },
  {
   "cell_type": "code",
   "execution_count": 15,
   "outputs": [
    {
     "data": {
      "text/plain": "7.261990663336204"
     },
     "execution_count": 15,
     "metadata": {},
     "output_type": "execute_result"
    }
   ],
   "source": [
    "snr"
   ],
   "metadata": {
    "collapsed": false,
    "pycharm": {
     "name": "#%%\n"
    }
   }
  },
  {
   "cell_type": "code",
   "execution_count": 16,
   "outputs": [],
   "source": [
    "def IRS_problem(d):\n",
    "    Nx = 10\n",
    "    Ny = 5\n",
    "    M = 1000\n",
    "    T = 10\n",
    "    Pmax = 5\n",
    "    num_states = Nx*Ny\n",
    "    agent = DDPGagent(Nx*Ny, actor_learning_rate=1e-3, critic_learning_rate=1e-3, disc_fact=0.95, tau= 0.005, max_memory_size=50000)\n",
    "    batch_size = 16\n",
    "    rewards = []\n",
    "    avg_rewards = []\n",
    "\n",
    "    for episode in range(50):\n",
    "        hr_ = np.matrix(rician_fading_h(2, 0, Nx, Ny, np.pi/6, np.pi/6, d_u))\n",
    "        hd_u = np.matrix(rayleigh_fading(4, M, d_u))\n",
    "        G_u = np.matrix(rician_fading_G(2.5, np.inf, Nx ,Ny, M,np.pi/3, 5*np.pi/3, np.pi/6, d_u))\n",
    "        hd_e = np.matrix(rayleigh_fading(4, M, d_e))\n",
    "        he_ = np.matrix(rician_fading_h(2, 0, Nx, Ny, np.pi/6, np.pi/6, d_e))\n",
    "        G_e = np.matrix(rician_fading_G(2.5, np.inf, Nx ,Ny, M,np.pi/3, 5*np.pi/3, np.pi/6, d_e))\n",
    "        angles = []\n",
    "        for i in range(Nx*Ny):\n",
    "          angles.append(2*np.pi*random.random())\n",
    "        angles, shifts = Phase_shifts(angles, Nx*Ny, hr_, G_u, hd_u, Pmax, 80)\n",
    "        snr_u = SNR(hr_, shifts, G_u, hd_u,  Pmax, 80)\n",
    "        snr_e = SNR(he_, shifts,G_e,hd_e,Pmax,80)\n",
    "        snr = snr_u - snr_e\n",
    "        angles.append(snr)\n",
    "        state = np.matrix(angles)\n",
    "        noise = np.random.normal(loc=0, scale=np.sqrt(0.05), size=(Nx*Ny, 2)).view(np.complex128)\n",
    "        episode_reward = 0\n",
    "\n",
    "        for step in range(T):\n",
    "            action = agent.get_action(state)\n",
    "            noise = noise.reshape(action.shape)\n",
    "            action = action + noise\n",
    "            action_ = action[0].tolist()\n",
    "            new_angles, shifts = Phase_shifts(action_, Nx*Ny, hr_, G_u, hd_u, Pmax, 80)\n",
    "            snr_u = SNR(hr_, shifts, G_u, hd_u,  Pmax, 80)\n",
    "            snr_e = SNR(he_, shifts,G_e,hd_e,Pmax,80)\n",
    "            snr = snr_u - snr_e\n",
    "            new_angles.append(snr)\n",
    "            new_state = np.matrix(new_angles)\n",
    "            reward = new_state[:,-1].item()\n",
    "            agent.memory.push(np.array(state)[0], action[0], reward, np.array(new_state)[0])\n",
    "            if len(agent.memory) > batch_size:\n",
    "                agent.update(batch_size)\n",
    "            state = new_state\n",
    "            episode_reward += reward\n",
    "        rewards.append(episode_reward/T)\n",
    "        avg_rewards.append(np.mean(rewards[-10:]))\n",
    "    return np.mean(rewards)"
   ],
   "metadata": {
    "collapsed": false,
    "pycharm": {
     "name": "#%%\n"
    }
   }
  },
  {
   "cell_type": "code",
   "execution_count": 17,
   "outputs": [
    {
     "name": "stderr",
     "output_type": "stream",
     "text": [
      "C:\\Users\\mrliuwinter\\AppData\\Local\\Temp\\ipykernel_5768\\3355137945.py:34: UserWarning: Casting complex values to real discards the imaginary part (Triggered internally at  C:\\actions-runner\\_work\\pytorch\\pytorch\\builder\\windows\\pytorch\\aten\\src\\ATen\\native\\Copy.cpp:239.)\n",
      "  state = Variable(torch.from_numpy(state).float().unsqueeze(0))\n",
      "C:\\Users\\mrliuwinter\\AppData\\Local\\Temp\\ipykernel_5768\\3355137945.py:46: ComplexWarning: Casting complex values to real discards the imaginary part\n",
      "  states = torch.FloatTensor(states)\n",
      "C:\\Users\\mrliuwinter\\AppData\\Local\\Temp\\ipykernel_5768\\3355137945.py:48: ComplexWarning: Casting complex values to real discards the imaginary part\n",
      "  actions = torch.FloatTensor(actions)\n",
      "C:\\Users\\mrliuwinter\\AppData\\Local\\Temp\\ipykernel_5768\\3355137945.py:49: ComplexWarning: Casting complex values to real discards the imaginary part\n",
      "  rewards = torch.FloatTensor(rewards)\n",
      "C:\\Users\\mrliuwinter\\AppData\\Local\\Temp\\ipykernel_5768\\3355137945.py:50: ComplexWarning: Casting complex values to real discards the imaginary part\n",
      "  next_states = torch.FloatTensor(next_states)\n"
     ]
    }
   ],
   "source": [
    "d_ = np.linspace(35, 100, 8) #[ 35.        ,  44.28571429,  53.57142857,  62.85714286, 72.14285714,  81.42857143,  90.71428571, 100.        ]\n",
    "snr = []\n",
    "for d in d_:\n",
    "  rew = IRS_problem(d)  # d_ * T * 50 ==400k\n",
    "  snr.append(rew)"
   ],
   "metadata": {
    "collapsed": false,
    "pycharm": {
     "name": "#%%\n"
    }
   }
  },
  {
   "cell_type": "code",
   "execution_count": 18,
   "outputs": [
    {
     "data": {
      "text/plain": "[(204.6196694413847+0j),\n (380.0741148991585+0j),\n (260.3837479893056+0j),\n (286.37410467907665+0j),\n (240.1981911663357+0j),\n (42.732008516887106+0j),\n (177.8740717344557+0j),\n (90.35066474513773+0j)]"
     },
     "execution_count": 18,
     "metadata": {},
     "output_type": "execute_result"
    }
   ],
   "source": [
    "snr"
   ],
   "metadata": {
    "collapsed": false,
    "pycharm": {
     "name": "#%%\n"
    }
   }
  },
  {
   "cell_type": "code",
   "execution_count": 19,
   "outputs": [
    {
     "name": "stderr",
     "output_type": "stream",
     "text": [
      "F:\\Code\\python\\venv\\lib\\site-packages\\matplotlib\\cbook\\__init__.py:1298: ComplexWarning: Casting complex values to real discards the imaginary part\n",
      "  return np.asarray(x, float)\n"
     ]
    },
    {
     "data": {
      "text/plain": "<Figure size 432x288 with 1 Axes>",
      "image/png": "[encoded data removed]"
     },
     "metadata": {
      "needs_background": "light"
     },
     "output_type": "display_data"
    }
   ],
   "source": [
    "plt.plot(d_, snr)\n",
    "plt.xlabel(\"distance, d(m)\")\n",
    "plt.ylabel(\"SNR(reward)\")\n",
    "plt.title(\"Recieved SNR vs. BS-User horizontal distance\")\n",
    "plt.grid()\n",
    "plt.show()"
   ],
   "metadata": {
    "collapsed": false,
    "pycharm": {
     "name": "#%%\n"
    }
   }
  },
  {
   "cell_type": "code",
   "execution_count": 20,
   "outputs": [],
   "source": [
    "def IRS_problem(Ny):\n",
    "    Nx = 10\n",
    "    M = 10\n",
    "    T = 1000\n",
    "    d = 90\n",
    "    Pmax = 5\n",
    "    num_states = Nx*Ny\n",
    "    agent = DDPGagent(Nx*Ny, actor_learning_rate=1e-3, critic_learning_rate=1e-3, disc_fact=0.95, tau= 0.005, max_memory_size=50000)\n",
    "    batch_size = 16\n",
    "    rewards = []\n",
    "    avg_rewards = []\n",
    "\n",
    "    for episode in range(50):\n",
    "        hr_ = np.matrix(rician_fading_h(2, 0, Nx, Ny, np.pi/6, np.pi/6, d_u))\n",
    "        hd_u = np.matrix(rayleigh_fading(4, M, d_u))\n",
    "        G_u = np.matrix(rician_fading_G(2.5, np.inf, Nx ,Ny, M,np.pi/3, 5*np.pi/3, np.pi/6, d_u))\n",
    "        hd_e = np.matrix(rayleigh_fading(4, M, d_e))\n",
    "        he_ = np.matrix(rician_fading_h(2, 0, Nx, Ny, np.pi/6, np.pi/6, d_e))\n",
    "        G_e = np.matrix(rician_fading_G(2.5, np.inf, Nx ,Ny, M,np.pi/3, 5*np.pi/3, np.pi/6, d_e))\n",
    "        angles = []\n",
    "        for i in range(Nx*Ny):\n",
    "            angles.append(2*np.pi*random.random())\n",
    "        angles, shifts = Phase_shifts(angles, Nx*Ny, hr_, G_u, hd_u, Pmax, 80)\n",
    "        snr_u = SNR(hr_, shifts, G_u, hd_u,  Pmax, 80)\n",
    "        snr_e = SNR(he_, shifts,G_e,hd_e,Pmax,80)\n",
    "        snr = snr_u - snr_e\n",
    "        angles.append(snr)\n",
    "        state = np.matrix(angles)\n",
    "        noise = np.random.normal(loc=0, scale=np.sqrt(0.05), size=(Nx*Ny, 2)).view(np.complex128)\n",
    "        episode_reward = 0\n",
    "\n",
    "        for step in range(T):\n",
    "            action = agent.get_action(state)\n",
    "            noise = noise.reshape(action.shape)\n",
    "            action = action + noise\n",
    "            action_ = action[0].tolist()\n",
    "            new_angles, shifts = Phase_shifts(action_, Nx*Ny, hr_, G_u, hd_u, Pmax, 80)\n",
    "            snr_u = SNR(hr_, shifts, G_u, hd_u,  Pmax, 80)\n",
    "            snr_e = SNR(he_, shifts,G_e,hd_e,Pmax,80)\n",
    "            snr = snr_u - snr_e\n",
    "            new_angles.append(snr)\n",
    "            new_state = np.matrix(new_angles)\n",
    "            reward = new_state[:,-1].item()\n",
    "            agent.memory.push(np.array(state)[0], action[0], reward, np.array(new_state)[0])\n",
    "            if len(agent.memory) > batch_size:\n",
    "                agent.update(batch_size)\n",
    "            state = new_state\n",
    "            episode_reward += reward\n",
    "        rewards.append(episode_reward/T)\n",
    "        avg_rewards.append(np.mean(rewards[-10:]))\n",
    "    return np.mean(rewards)"
   ],
   "metadata": {
    "collapsed": false,
    "pycharm": {
     "name": "#%%\n"
    }
   }
  },
  {
   "cell_type": "code",
   "execution_count": 21,
   "outputs": [
    {
     "name": "stderr",
     "output_type": "stream",
     "text": [
      "C:\\Users\\mrliuwinter\\AppData\\Local\\Temp\\ipykernel_5768\\3355137945.py:46: ComplexWarning: Casting complex values to real discards the imaginary part\n",
      "  states = torch.FloatTensor(states)\n",
      "C:\\Users\\mrliuwinter\\AppData\\Local\\Temp\\ipykernel_5768\\3355137945.py:48: ComplexWarning: Casting complex values to real discards the imaginary part\n",
      "  actions = torch.FloatTensor(actions)\n",
      "C:\\Users\\mrliuwinter\\AppData\\Local\\Temp\\ipykernel_5768\\3355137945.py:49: ComplexWarning: Casting complex values to real discards the imaginary part\n",
      "  rewards = torch.FloatTensor(rewards)\n",
      "C:\\Users\\mrliuwinter\\AppData\\Local\\Temp\\ipykernel_5768\\3355137945.py:50: ComplexWarning: Casting complex values to real discards the imaginary part\n",
      "  next_states = torch.FloatTensor(next_states)\n"
     ]
    }
   ],
   "source": [
    "N = [2, 3, 4, 5, 6, 7]\n",
    "snr_ = []\n",
    "for Ny in N:\n",
    "  rew = IRS_problem(Ny)\n",
    "  snr_.append(rew)"
   ],
   "metadata": {
    "collapsed": false,
    "pycharm": {
     "name": "#%%\n"
    }
   }
  },
  {
   "cell_type": "code",
   "execution_count": 22,
   "outputs": [],
   "source": [
    "for i in range(len(N)):\n",
    "  N[i] = 10* N[i]"
   ],
   "metadata": {
    "collapsed": false,
    "pycharm": {
     "name": "#%%\n"
    }
   }
  },
  {
   "cell_type": "code",
   "execution_count": 23,
   "outputs": [
    {
     "data": {
      "text/plain": "<Figure size 432x288 with 1 Axes>",
      "image/png": "[encoded data removed]"
     },
     "metadata": {
      "needs_background": "light"
     },
     "output_type": "display_data"
    }
   ],
   "source": [
    "plt.plot(N, snr_)\n",
    "plt.xlabel(\"Number of elements at IRS, N\")\n",
    "plt.ylabel(\"SNR(reward)\")\n",
    "plt.title(\"Recieved SNR vs. Number of elements in IRS\")\n",
    "plt.grid()\n",
    "plt.show()"
   ],
   "metadata": {
    "collapsed": false,
    "pycharm": {
     "name": "#%%\n"
    }
   }
  },
  {
   "cell_type": "code",
   "execution_count": 24,
   "outputs": [],
   "source": [
    "hr_ = np.matrix(rician_fading_h(2.8, 10, Nx, Ny, 5*np.pi/3, 2*np.pi/6, d))\n",
    "G_ = np.matrix(rician_fading_G(2, 10, Nx ,Ny, M,7*np.pi/4, 5*np.pi/6, np.pi/4, d))\n",
    "hd_ = np.matrix(rayleigh_fading(2.8, M, d))"
   ],
   "metadata": {
    "collapsed": false,
    "pycharm": {
     "name": "#%%\n"
    }
   }
  },
  {
   "cell_type": "code",
   "execution_count": 25,
   "outputs": [
    {
     "data": {
      "text/plain": "2383.712750440862"
     },
     "execution_count": 25,
     "metadata": {},
     "output_type": "execute_result"
    }
   ],
   "source": [
    "angles = []\n",
    "coeff = np.linspace(0, 2, Nx*Ny)\n",
    "for i in range(Nx*Ny):\n",
    "    angles.append(np.pi*coeff[i])\n",
    "angles, shifts = Phase_shifts(angles, Nx*Ny, hr_, G_, hd_, Pmax, 80)\n",
    "#snr = SNR(hr_, shifts, G_, hd_,  Pmax, 80).item()\n",
    "snr = SNR(hr_, shifts, G_, hd_,  Pmax, 80)\n",
    "snr"
   ],
   "metadata": {
    "collapsed": false,
    "pycharm": {
     "name": "#%%\n"
    }
   }
  },
  {
   "cell_type": "code",
   "execution_count": 26,
   "outputs": [],
   "source": [
    "sum = np.matmul(np.matmul(hr_.getH(), shifts), G_) + hd_.getH()\n",
    "b = np.sqrt(Pmax)* sum.getH() / np.sqrt(np.matmul(sum, sum.getH()).item())"
   ],
   "metadata": {
    "collapsed": false,
    "pycharm": {
     "name": "#%%\n"
    }
   }
  },
  {
   "cell_type": "code",
   "execution_count": 27,
   "outputs": [
    {
     "data": {
      "text/plain": "matrix([[4.09653023, 1.74473284, 0.56076736, 5.30959796, 2.87254689,\n         2.00285366, 1.43393315, 2.91749965, 1.86536467, 5.19732076,\n         5.69277159, 2.73206043, 1.0929177 , 3.7745253 , 1.79217176,\n         3.72719212, 4.47308698, 2.27109726, 0.17011641, 3.44569323,\n         5.00497132, 1.16079694, 2.38643987, 2.3770418 , 4.91648436,\n         2.07723209, 3.2144471 , 3.77264879, 0.39674509, 3.31272525,\n         0.9501695 , 1.90111272, 3.06547519, 4.07188473, 6.17107474,\n         0.32529755, 4.57597149, 2.84025283, 2.99973534, 5.41434162,\n         2.34910407, 2.12475618, 5.84456804, 1.89887702, 2.79601915,\n         3.69806058, 4.21488125, 5.32754044, 4.98002308, 1.42894213,\n         3.88837371]])"
     },
     "execution_count": 27,
     "metadata": {},
     "output_type": "execute_result"
    }
   ],
   "source": [
    "T = state[0][0]\n",
    "T"
   ],
   "metadata": {
    "collapsed": false,
    "pycharm": {
     "name": "#%%\n"
    }
   }
  },
  {
   "cell_type": "code",
   "execution_count": 28,
   "outputs": [
    {
     "data": {
      "text/plain": "matrix([[1.30396607, 0.55536571, 0.17849779, 1.69009752, 0.91436008,\n         0.63752812, 0.4564351 , 0.92866898, 0.59376402, 1.65435858,\n         1.81206548, 0.86964185, 0.34788651, 1.20146872, 0.57046599,\n         1.1864021 , 1.42382781, 0.72291271, 0.05414974, 1.09679822,\n         1.59313185, 0.36949314, 0.7596274 , 0.7566359 , 1.56496558,\n         0.66120351, 1.02319029, 1.20087141, 0.12628789, 1.0544732 ,\n         0.30244834, 0.60514297, 0.97577106, 1.29612117, 1.9643141 ,\n         0.10354543, 1.45657697, 0.90408056, 0.95484541, 1.72343847,\n         0.74774305, 0.6763309 , 1.86038379, 0.60443133, 0.89000054,\n         1.17712924, 1.34163837, 1.69580879, 1.58519058, 0.45484641,\n         1.23770779]])"
     },
     "execution_count": 28,
     "metadata": {},
     "output_type": "execute_result"
    }
   ],
   "source": [
    "(1/np.pi)*state"
   ],
   "metadata": {
    "collapsed": false,
    "pycharm": {
     "name": "#%%\n"
    }
   }
  },
  {
   "cell_type": "code",
   "execution_count": 29,
   "outputs": [
    {
     "data": {
      "text/plain": "[4.09653022672997,\n 1.7447328393359118,\n 0.5607673551720759,\n 5.309597961791814,\n 2.8725468944524444,\n 2.002853662239694,\n 1.4339331502706467,\n 2.9174996509688866,\n 1.8653646708282692,\n 5.197320761182357,\n 5.692771586908552,\n 2.7320604331011826,\n 1.0929176955064521,\n 3.774525302069522,\n 1.792171763572516,\n 3.727192116888295,\n 4.473086979851407,\n 2.27109726407079,\n 0.17011641428189975,\n 3.4456932295208373,\n 5.0049713192029275,\n 1.1607969440779489,\n 2.38643987463904,\n 2.3770418000102427,\n 4.916484360371072,\n 2.0772320865379577,\n 3.214447098794913,\n 3.7726487915294817,\n 0.3967450932544882,\n 3.3127252488038526,\n 0.9501694953753277,\n 1.9011127224687712,\n 3.065475194740671,\n 4.071884733181421,\n 6.171074741084761,\n 0.32529754698339836,\n 4.575971494014399,\n 2.8402528333330608,\n 2.9997353385550016,\n 5.41434162394272,\n 2.3491040694883263,\n 2.124756175350463,\n 5.844568037240208,\n 1.8988770232408787,\n 2.796019150557928,\n 3.6980605762451813,\n 4.214881253512969,\n 5.327540436560078,\n 4.980023075443106,\n 1.428942125148575,\n 3.888373713149158]"
     },
     "execution_count": 29,
     "metadata": {},
     "output_type": "execute_result"
    }
   ],
   "source": [
    "T.tolist()[0]"
   ],
   "metadata": {
    "collapsed": false,
    "pycharm": {
     "name": "#%%\n"
    }
   }
  }
 ],
 "metadata": {
  "colab": {
   "collapsed_sections": [],
   "name": "DRL for IRS.ipynb",
   "provenance": []
  },
  "kernelspec": {
   "display_name": "Python 3",
   "language": "python",
   "name": "python3"
  },
  "language_info": {
   "codemirror_mode": {
    "name": "ipython",
    "version": 3
   },
   "file_extension": ".py",
   "mimetype": "text/x-python",
   "name": "python",
   "nbconvert_exporter": "python",
   "pygments_lexer": "ipython3",
   "version": "3.7.9"
  }
 },
 "nbformat": 4,
 "nbformat_minor": 1
}