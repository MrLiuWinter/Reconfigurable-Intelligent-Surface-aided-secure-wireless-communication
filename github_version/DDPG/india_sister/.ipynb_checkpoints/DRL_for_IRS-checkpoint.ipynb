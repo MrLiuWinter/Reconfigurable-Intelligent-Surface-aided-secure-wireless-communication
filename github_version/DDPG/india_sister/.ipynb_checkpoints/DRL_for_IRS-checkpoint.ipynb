{
 "cells": [
  {
   "cell_type": "code",
   "execution_count": 1,
   "metadata": {
    "id": "dO_S8wDFIu0j"
   },
   "outputs": [],
   "source": [
    "import gym\n",
    "import torch\n",
    "import torch.nn as nn\n",
    "import torch.nn.functional as F\n",
    "import torch.optim as optim\n",
    "import numpy as np\n",
    "import matplotlib.pyplot as plt\n",
    "import math\n",
    "import cmath"
   ]
  },
  {
   "cell_type": "code",
   "execution_count": 2,
   "metadata": {
    "id": "SkXK0moDJgRk"
   },
   "outputs": [],
   "source": [
    "class Actor(nn.Module):\n",
    "    def __init__(self, input_size, hidden_size_1, hidden_size_2, output_size, learning_rate = 3e-4):\n",
    "        super(Actor, self).__init__()\n",
    "        self.linear1 = nn.Linear(input_size, hidden_size_1)\n",
    "        self.linear2 = nn.Linear(hidden_size_1, hidden_size_2)\n",
    "        self.linear3 = nn.Linear(hidden_size_2, output_size)\n",
    "\n",
    "        \n",
    "    def forward(self, state):\n",
    "        \"\"\"\n",
    "        Param state is a torch tensor\n",
    "        \"\"\"\n",
    "        x = F.relu(self.linear2(F.relu(self.linear1(state))))\n",
    "        x = torch.tanh(self.linear3(x))\n",
    "        return x\n",
    "\n",
    "\n",
    "\n",
    "class Critic(nn.Module):\n",
    "    def __init__(self, input_size, hidden_size_1, hidden_size_2, output_size):\n",
    "        super(Critic, self).__init__()\n",
    "        self.linear1 = nn.Linear(input_size, hidden_size_1)\n",
    "        self.linear2 = nn.Linear(hidden_size_1, hidden_size_2)\n",
    "        self.linear3 = nn.Linear(hidden_size_2, output_size)\n",
    "\n",
    "\n",
    "    def forward(self, state, action):\n",
    "        \"\"\"\n",
    "        Params state and actions are torch tensors\n",
    "        \"\"\"\n",
    "        #print(state.shape)\n",
    "        #print(action.shape)\n",
    "        x = torch.cat([state, action], dim = 1)\n",
    "        x = F.relu(self.linear2(F.relu(self.linear1(x))))\n",
    "        x = torch.tanh(self.linear3(x))\n",
    "\n",
    "        return x"
   ]
  },
  {
   "cell_type": "code",
   "execution_count": 3,
   "metadata": {
    "id": "XZKw0UK6LKv0"
   },
   "outputs": [],
   "source": [
    "num_states = 50\n",
    "hidden_size_1 = 300\n",
    "hidden_size_2 = 200\n",
    "num_actions = 50+1\n",
    "actor_eval = Actor(num_states, hidden_size_1, hidden_size_2, num_actions)\n",
    "actor_target = Actor(num_states, hidden_size_1, hidden_size_2, num_actions)\n",
    "critic_eval = Critic(num_states + num_actions, hidden_size_1, hidden_size_2, num_actions)\n",
    "critic_target = Critic(num_states + num_actions, hidden_size_1, hidden_size_2, num_actions)\n",
    "\n",
    "# We initialize the target networks as copies of the original networks\n",
    "for target_param, param in zip(actor_target.parameters(), actor_eval.parameters()):\n",
    "    target_param.data.copy_(param.data)\n",
    "for target_param, param in zip(critic_target.parameters(), critic_eval.parameters()):\n",
    "    target_param.data.copy_(param.data)"
   ]
  },
  {
   "cell_type": "code",
   "execution_count": 4,
   "metadata": {
    "id": "-shexVGRSAGq"
   },
   "outputs": [],
   "source": [
    "import random\n",
    "from collections import deque\n",
    "\n",
    "class Replay:\n",
    "    def __init__(self, max_size):\n",
    "        self.buffer = deque(maxlen=max_size)\n",
    "    \n",
    "    def push(self, state, action, reward, next_state):\n",
    "        experience = (state, action, np.array([reward]), next_state)\n",
    "        self.buffer.append(experience)\n",
    "\n",
    "    def sample(self, batch_size):\n",
    "        state_batch = []\n",
    "        action_batch = []\n",
    "        reward_batch = []\n",
    "        next_state_batch = []\n",
    "        done_batch = []\n",
    "\n",
    "        batch = random.sample(self.buffer, batch_size)\n",
    "\n",
    "        for experience in batch:\n",
    "            state, action, reward, next_state = experience\n",
    "            #print(state.shape)\n",
    "            state_batch.append(state)\n",
    "            action_batch.append(action)\n",
    "            reward_batch.append(reward)\n",
    "            next_state_batch.append(next_state)\n",
    "            #done_batch.append(done)\n",
    "        #print(state_batch)\n",
    "        #print(torch.FloatTensor(state_batch))\n",
    "        \n",
    "        return state_batch, action_batch, reward_batch, next_state_batch\n",
    "\n",
    "    def __len__(self):\n",
    "        return len(self.buffer)"
   ]
  },
  {
   "cell_type": "code",
   "execution_count": 5,
   "metadata": {
    "id": "gpRNyYN9WReb"
   },
   "outputs": [],
   "source": [
    "\"\"\"\n",
    "Taken from https://github.com/vitchyr/rlkit/blob/master/rlkit/exploration_strategies/ou_strategy.py\n",
    "\"\"\"\n",
    "class OUNoise(object):\n",
    "    def __init__(self, action_dim, mu=0.0, theta=0.15, max_sigma=0.3, min_sigma=0.3, decay_period=100000):\n",
    "        self.mu           = mu\n",
    "        self.theta        = theta\n",
    "        self.sigma        = max_sigma\n",
    "        self.max_sigma    = max_sigma\n",
    "        self.min_sigma    = min_sigma\n",
    "        self.decay_period = decay_period\n",
    "        self.low          = 0\n",
    "        self.high         = 2*np.pi\n",
    "        self.action_dim = action_dim\n",
    "        self.reset()\n",
    "        \n",
    "    def reset(self):\n",
    "        self.state = np.ones(self.action_dim) * self.mu\n",
    "        \n",
    "    def evolve_state(self):\n",
    "        x  = self.state\n",
    "        dx = self.theta * (self.mu - x) + self.sigma * np.random.randn(self.action_dim)\n",
    "        self.state = x + dx\n",
    "        return self.state\n",
    "    \n",
    "    def get_action(self, action, t=0): \n",
    "        ou_state = self.evolve_state()\n",
    "        self.sigma = self.max_sigma - (self.max_sigma - self.min_sigma) * min(1.0, t / self.decay_period)\n",
    "        return np.clip(action + ou_state, self.low, self.high)"
   ]
  },
  {
   "cell_type": "code",
   "execution_count": 6,
   "metadata": {
    "id": "VzFbSnSOWlEG"
   },
   "outputs": [],
   "source": [
    "\n",
    "import torch\n",
    "import torch.autograd\n",
    "import torch.optim as optim\n",
    "import torch.nn as nn\n",
    "\n",
    "\n",
    "class DDPGagent:\n",
    "    def __init__(self, num_states, actor_learning_rate=1e-4, critic_learning_rate=1e-3, disc_fact=0.99, tau=1e-2, max_memory_size=50000):\n",
    "        # Params\n",
    "        self.num_states = num_states\n",
    "        self.num_actions = num_states + 1\n",
    "        self.disc_fact = disc_fact\n",
    "        self.tau = tau\n",
    "\n",
    "        # Networks\n",
    "        self.actor_eval = Actor(num_states+1, hidden_size_1, hidden_size_2, num_states)\n",
    "        self.actor_target = Actor(num_states+1, hidden_size_1, hidden_size_2, num_states)\n",
    "        self.critic_eval = Critic(2*num_states+1, hidden_size_1, hidden_size_2, 1)\n",
    "        self.critic_target = Critic(2*num_states+1, hidden_size_1, hidden_size_2, 1)\n",
    "\n",
    "        for target_param, param in zip(self.actor_target.parameters(), self.actor_eval.parameters()):\n",
    "            target_param.data.copy_(param.data)\n",
    "\n",
    "        for target_param, param in zip(self.critic_target.parameters(), self.critic_eval.parameters()):\n",
    "            target_param.data.copy_(param.data)\n",
    "        \n",
    "        # Training\n",
    "        self.memory = Replay(max_memory_size)        \n",
    "        self.critic_criterion  = nn.MSELoss()\n",
    "        self.actor_optimizer  = optim.Adam(self.actor_eval.parameters(), lr=actor_learning_rate)\n",
    "        self.critic_optimizer = optim.Adam(self.critic_eval.parameters(), lr=critic_learning_rate)\n",
    "    \n",
    "    def get_action(self, state):\n",
    "        state = Variable(torch.from_numpy(state).float().unsqueeze(0))\n",
    "        #print(state.shape)\n",
    "        action = self.actor_eval.forward(state)\n",
    "        #print(action.shape)\n",
    "        action = action.detach().numpy()[0,0]\n",
    "  \n",
    "        return action.reshape((1, self.num_states))\n",
    "    \n",
    "    def update(self, batch_size):\n",
    "        states, actions, rewards, next_states = self.memory.sample(batch_size)\n",
    "        #print(states)\n",
    "        #print(states[0])\n",
    "        states = torch.FloatTensor(states)\n",
    "        #states = states.unsqueeze(1)\n",
    "        actions = torch.FloatTensor(actions)\n",
    "        rewards = torch.FloatTensor(rewards)\n",
    "        next_states = torch.FloatTensor(next_states)\n",
    "        #print(states.shape)\n",
    "        #print(actions.shape)\n",
    "        # Critic loss        \n",
    "        Qvals = self.critic_eval.forward(states, actions)\n",
    "        next_actions = self.actor_target.forward(next_states)\n",
    "        next_Q = self.critic_target.forward(next_states, next_actions.detach())\n",
    "        Qprime = rewards.clone()\n",
    "        for i in range(len(rewards)):\n",
    "          Qprime[i] = rewards[i] + self.disc_fact* next_Q[i]\n",
    "        critic_loss = self.critic_criterion(Qvals, Qprime)\n",
    "\n",
    "        # Actor loss\n",
    "        policy_loss = -self.critic_eval.forward(states, self.actor_eval.forward(states)).mean()\n",
    "        \n",
    "        # update networks\n",
    "        self.actor_optimizer.zero_grad()\n",
    "        policy_loss.backward()\n",
    "        self.actor_optimizer.step()\n",
    "\n",
    "        self.critic_optimizer.zero_grad()\n",
    "        critic_loss.backward() \n",
    "        self.critic_optimizer.step()\n",
    "\n",
    "        # update target networks \n",
    "        for target_param, param in zip(self.actor_target.parameters(), self.actor_eval.parameters()):\n",
    "            target_param.data.copy_(param.data * self.tau + target_param.data * (1.0 - self.tau))\n",
    "       \n",
    "        for target_param, param in zip(self.critic_target.parameters(), self.critic_eval.parameters()):\n",
    "            target_param.data.copy_(param.data * self.tau + target_param.data * (1.0 - self.tau))"
   ]
  },
  {
   "cell_type": "code",
   "execution_count": 7,
   "metadata": {
    "id": "0SaKCLhtsz8U"
   },
   "outputs": [],
   "source": [
    "#M is the number of transmitter's antennas\n",
    "#N is the number of receiver' antennas\n",
    "#dist is the distance between the transmitter and the receiver\n",
    "#pl is path-loss exponent\n",
    "#Kdb is the Rician factor in dB\n",
    "\n",
    "def Rician_Fading_Channels(M,N,dist,pl, Kdb):  \n",
    "    K = 10**(Kdb/10) #dB to mW\n",
    "    mu = np.sqrt( K/((K+1))) #direct path\n",
    "    s = np.sqrt( 1/(2*(K+1))) #scattered paths\n",
    "    Hw = mu + s*(np.random.randn(M,N)+1j*np.random.randn(M,N)) #Rician channel\n",
    "    H = np.sqrt(1/(dist**pl))*Hw  #Rician channel with pathloss  \n",
    "    return H"
   ]
  },
  {
   "cell_type": "code",
   "execution_count": 8,
   "metadata": {
    "id": "S1P_s-D0rYVf"
   },
   "outputs": [],
   "source": [
    "import math\n",
    "def rayleigh_fading(loss_exp, M, d):\n",
    "  path_loss = -30 + 10*loss_exp*math.log10(d/1)\n",
    "  z = []\n",
    "  for i in range(500):\n",
    "    vec = np.sqrt(path_loss)*np.random.normal(loc=0, scale=np.sqrt(2)/2, size=(M, 2)).view(np.complex128) \n",
    "    z.append(vec.T)\n",
    "  return np.mean(z, 0).reshape((M,1))"
   ]
  },
  {
   "cell_type": "code",
   "execution_count": 9,
   "metadata": {
    "colab": {
     "base_uri": "https://localhost:8080/"
    },
    "id": "lBEbgPi3q3LB",
    "outputId": "73f465f7-a808-4a89-c1e4-a3ac76de57f0"
   },
   "outputs": [
    {
     "data": {
      "text/plain": "0.0"
     },
     "execution_count": 9,
     "metadata": {},
     "output_type": "execute_result"
    }
   ],
   "source": [
    "1/np.inf"
   ]
  },
  {
   "cell_type": "code",
   "execution_count": 10,
   "metadata": {
    "id": "zt4el8rE5YgD"
   },
   "outputs": [],
   "source": [
    "def aN(N, theta, d):\n",
    "  a = []\n",
    "  for i in range(N):\n",
    "    a.append(cmath.exp(-1j*2*np.pi*i*theta/2))\n",
    "  return np.reshape(np.matrix(a), (1, N))\n"
   ]
  },
  {
   "cell_type": "code",
   "execution_count": 11,
   "metadata": {
    "id": "__C9zNA81tYt"
   },
   "outputs": [],
   "source": [
    "\n",
    "def rician_fading_G(loss_exp, K, Nx, Ny, M,theta_AOAh, theta_AOAv, theta_AODb, d):\n",
    "  path_loss = -30 + 10*loss_exp*math.log10(d)\n",
    "  f1 = np.sqrt(1/(1+(1/K)))\n",
    "  f2 = np.sqrt(1/(K+1))\n",
    "  aNx = aN(Nx, np.sin(theta_AOAh), d).getH()\n",
    "  #print(aNx)\n",
    "  aNy = aN(Ny, np.sin(theta_AOAv), d).getH()\n",
    "  #print(aNy)\n",
    "  aN_= aN(M, np.sin(theta_AODb), d)\n",
    "  #print(aN_)\n",
    "  bar = np.matmul(np.kron(aNx, aNy), aN_)\n",
    "  #print(bar)\n",
    "  z = []\n",
    "  for i in range(500):\n",
    "    vec = []\n",
    "    for i in range(Nx*Ny):\n",
    "      vec.append(np.random.normal(loc=0, scale=np.sqrt(2)/2, size=(M, 2)).view(np.complex128) )\n",
    "    curl = np.array(vec).squeeze(2)\n",
    "    z.append(curl)\n",
    "  vecs = np.sqrt(path_loss)*(f1*bar + f2*np.mean(z,0))\n",
    "  return vecs"
   ]
  },
  {
   "cell_type": "code",
   "execution_count": 12,
   "metadata": {
    "colab": {
     "base_uri": "https://localhost:8080/"
    },
    "id": "wbAb_4hhZXfu",
    "outputId": "c86d6439-f2f0-4dcb-b364-56abf19dc1c6"
   },
   "outputs": [],
   "source": [
    "d=100"
   ]
  },
  {
   "cell_type": "code",
   "execution_count": 13,
   "outputs": [],
   "source": [
    "G_ = np.matrix(rician_fading_G(2, np.inf, 10 ,5, 10,np.pi/3, np.pi/3, np.pi/6, d))"
   ],
   "metadata": {
    "collapsed": false,
    "pycharm": {
     "name": "#%%\n"
    }
   }
  },
  {
   "cell_type": "code",
   "execution_count": 14,
   "metadata": {
    "colab": {
     "base_uri": "https://localhost:8080/"
    },
    "id": "4IzoLkH-A1Gh",
    "outputId": "e49dec29-d924-4bde-ac7a-5830e8d259a3"
   },
   "outputs": [
    {
     "data": {
      "text/plain": "0.9388082269587934"
     },
     "execution_count": 14,
     "metadata": {},
     "output_type": "execute_result"
    }
   ],
   "source": [
    "np.sqrt(-30 + 10*2*math.log10(35))"
   ]
  },
  {
   "cell_type": "code",
   "execution_count": 15,
   "metadata": {
    "id": "vO9n2WgpDZBg"
   },
   "outputs": [],
   "source": [
    "def rician_fading_h(loss_exp, K, Nx, Ny, theta_AODh, theta_AODv, d):\n",
    "  path_loss = -30 + 10*loss_exp*math.log10(d)\n",
    "  f1 = np.sqrt(K/(K+1))\n",
    "  f2 = np.sqrt(1/(K+1))\n",
    "  phi = np.cos(theta_AODv) * np.sin(theta_AODh)\n",
    "  a1 = aN(Ny, np.sin(theta_AODv),d).getH()\n",
    "  a2 = aN(Nx, phi, d).getH()\n",
    "  bar = np.kron(a1, a2)\n",
    "  z = []\n",
    "  for i in range(500):\n",
    "    curl = np.random.normal(loc=0, scale=np.sqrt(2)/2, size=(Nx*Ny, 2)).view(np.complex128)\n",
    "    z.append(curl)\n",
    "  vecs = np.sqrt(path_loss)*(f1*bar + f2*np.mean(z,0))\n",
    "  return vecs"
   ]
  },
  {
   "cell_type": "code",
   "execution_count": 16,
   "outputs": [],
   "source": [
    "hr  = np.matrix(rician_fading_h(2.8, 0, 5, 3, np.pi/6, np.pi/6, 48))\n",
    "G = np.matrix(rician_fading_G(2.8, np.inf, 5, 3, 8,np.pi/3,  np.pi/3, np.pi/6, 51))\n",
    "hd = np.matrix(rayleigh_fading(5, 8, 48))\n",
    "import random\n",
    "angles = []\n",
    "num_states = 15\n",
    "an = np.linspace(0, 1, 15)\n",
    "for i in an:\n",
    "  angles.append(2*np.pi*i)\n",
    "angles_ = []\n",
    "for i in range(len(angles)):\n",
    "  angles_.append(cmath.exp(1j*angles[i]))\n",
    "np.array(angles_)\n",
    "shifts = np.diag(angles_)\n",
    "sum = np.matmul(np.matmul(hr.getH(), shifts), G) + hd.getH()"
   ],
   "metadata": {
    "collapsed": false,
    "pycharm": {
     "name": "#%%\n"
    }
   }
  },
  {
   "cell_type": "code",
   "execution_count": 17,
   "metadata": {
    "id": "SVZ_9qV6hJsx"
   },
   "outputs": [],
   "source": [
    "\n",
    "def Phase_shifts(angles, num_states, hr_, G_, hd_,  Pmax, sigma):\n",
    "  angles_ = []\n",
    "  #print(angles[2])\n",
    "  for i in range(len(angles)):\n",
    "    angles_.append(cmath.exp(1j*angles[i]))\n",
    "  shifts = np.diag(angles_)\n",
    "  return angles, shifts\n"
   ]
  },
  {
   "cell_type": "code",
   "execution_count": 18,
   "metadata": {
    "id": "jNT1rquwWVze"
   },
   "outputs": [],
   "source": [
    "angles, shifts = Phase_shifts(angles, 5*3, hr, G, hd, 5, 80)"
   ]
  },
  {
   "cell_type": "code",
   "execution_count": 19,
   "metadata": {
    "colab": {
     "base_uri": "https://localhost:8080/"
    },
    "id": "PLJPZ0nBXNk-",
    "outputId": "1579940f-7cc2-4d92-924d-96aaf9d52526"
   },
   "outputs": [
    {
     "data": {
      "text/plain": "[0.0,\n 0.4487989505128276,\n 0.8975979010256552,\n 1.3463968515384828,\n 1.7951958020513104,\n 2.2439947525641375,\n 2.6927937030769655,\n 3.141592653589793,\n 3.5903916041026207,\n 4.039190554615448,\n 4.487989505128275,\n 4.9367884556411035,\n 5.385587406153931,\n 5.834386356666758,\n 6.283185307179586]"
     },
     "execution_count": 19,
     "metadata": {},
     "output_type": "execute_result"
    }
   ],
   "source": [
    "angles"
   ]
  },
  {
   "cell_type": "code",
   "execution_count": 20,
   "metadata": {
    "colab": {
     "base_uri": "https://localhost:8080/"
    },
    "id": "z_gSEKO9Y4-T",
    "outputId": "3b41dace-ee22-4301-9403-e33862e6f7fe"
   },
   "outputs": [
    {
     "data": {
      "text/plain": "2.52137088055306"
     },
     "execution_count": 20,
     "metadata": {},
     "output_type": "execute_result"
    }
   ],
   "source": [
    "b = np.sqrt(5)* sum.getH() / (np.matmul( sum, sum.getH()).item())**(1/2)\n",
    "snr = (1/80)* np.abs(np.matmul(sum, b))**2\n",
    "snr = snr.item()\n",
    "snr"
   ]
  },
  {
   "cell_type": "code",
   "execution_count": 21,
   "metadata": {
    "id": "437-WE08M19p"
   },
   "outputs": [],
   "source": [
    "def SNR(hr, shifts, G, hd,  Pmax, sigma):\n",
    "  #print(hr.shape)\n",
    "  #print(G.shape)\n",
    "  #print(shifts.shape)\n",
    "  #print(hd.shape)\n",
    "  sum = np.matmul(np.matmul(hr.getH(), shifts), G) + hd.getH()\n",
    "  b = np.sqrt(Pmax)* sum.getH() / np.sqrt(np.matmul(sum, sum.getH()).item())\n",
    "  snr = (1/sigma)* np.abs(np.matmul(sum, b))**2\n",
    "  return snr.item()"
   ]
  },
  {
   "cell_type": "code",
   "execution_count": 22,
   "metadata": {
    "id": "7c2tkZWaYGxt"
   },
   "outputs": [],
   "source": [
    "from torch.autograd import Variable\n",
    "agent = DDPGagent(5*3, actor_learning_rate=1e-3, critic_learning_rate=1e-3, disc_fact=0.95, tau= 0.005, max_memory_size=50000)\n",
    "angles.append(snr)\n",
    "state = np.matrix(angles)\n",
    "action = agent.get_action(state)"
   ]
  },
  {
   "cell_type": "code",
   "execution_count": 23,
   "metadata": {
    "colab": {
     "base_uri": "https://localhost:8080/"
    },
    "id": "kOKHqmd8u144",
    "outputId": "8564ec6c-7e8d-4abd-b742-95de898e2a95"
   },
   "outputs": [
    {
     "data": {
      "text/plain": "matrix([[0.        , 0.44879895, 0.8975979 , 1.34639685, 1.7951958 ,\n         2.24399475, 2.6927937 , 3.14159265, 3.5903916 , 4.03919055,\n         4.48798951, 4.93678846, 5.38558741, 5.83438636, 6.28318531,\n         2.52137088]])"
     },
     "execution_count": 23,
     "metadata": {},
     "output_type": "execute_result"
    }
   ],
   "source": [
    "state"
   ]
  },
  {
   "cell_type": "code",
   "execution_count": 24,
   "metadata": {
    "colab": {
     "base_uri": "https://localhost:8080/"
    },
    "id": "pVbqMIj_YLwc",
    "outputId": "21ece625-2c1c-4cc8-ce3f-ce73c25ef67e"
   },
   "outputs": [
    {
     "data": {
      "text/plain": "array([[ 0.44905776,  0.5109877 ,  0.3284725 ,  0.23170084, -0.00971075,\n        -0.28880882, -0.32498458, -0.19903764,  0.14631796,  0.41258866,\n         0.09113058,  0.04967331, -0.2891863 , -0.0885216 , -0.16341044]],\n      dtype=float32)"
     },
     "execution_count": 24,
     "metadata": {},
     "output_type": "execute_result"
    }
   ],
   "source": [
    "action"
   ]
  },
  {
   "cell_type": "code",
   "execution_count": 25,
   "metadata": {
    "colab": {
     "base_uri": "https://localhost:8080/"
    },
    "id": "vUrTg9CDSgv8",
    "outputId": "aa512159-3a7e-45e6-a5d0-5e51c5cb1408"
   },
   "outputs": [
    {
     "data": {
      "text/plain": "array([0.77889816, 0.45006586, 0.63648947, 0.        , 0.        ,\n       0.        , 0.        , 0.        , 0.        , 0.65680206,\n       0.        , 0.26125897, 0.        , 0.        , 0.        ])"
     },
     "execution_count": 25,
     "metadata": {},
     "output_type": "execute_result"
    }
   ],
   "source": [
    "noise = OUNoise(5*3)\n",
    "noise.reset()\n",
    "noise.get_action(action)[0]"
   ]
  },
  {
   "cell_type": "code",
   "execution_count": 26,
   "metadata": {
    "colab": {
     "base_uri": "https://localhost:8080/"
    },
    "id": "PVPDNp25Schh",
    "outputId": "4477c225-4c60-4ce7-e7bf-71b613837466"
   },
   "outputs": [
    {
     "data": {
      "text/plain": "array([[ 0.44905776,  0.5109877 ,  0.3284725 ,  0.23170084, -0.00971075,\n        -0.28880882, -0.32498458, -0.19903764,  0.14631796,  0.41258866,\n         0.09113058,  0.04967331, -0.2891863 , -0.0885216 , -0.16341044]],\n      dtype=float32)"
     },
     "execution_count": 26,
     "metadata": {},
     "output_type": "execute_result"
    }
   ],
   "source": [
    "action"
   ]
  },
  {
   "cell_type": "code",
   "execution_count": 27,
   "metadata": {
    "colab": {
     "base_uri": "https://localhost:8080/",
     "height": 311
    },
    "id": "Q_k13XskaZ9i",
    "outputId": "e72c2621-bd31-49b9-db90-23ee0880392b"
   },
   "outputs": [
    {
     "data": {
      "text/plain": "(15,)"
     },
     "execution_count": 27,
     "metadata": {},
     "output_type": "execute_result"
    }
   ],
   "source": [
    "a, b=Phase_shifts(action[0], 5*3,hr, G, hd, 5, 80 )\n",
    "a.shape"
   ]
  },
  {
   "cell_type": "code",
   "execution_count": 28,
   "metadata": {
    "colab": {
     "base_uri": "https://localhost:8080/",
     "height": 279
    },
    "id": "W8PiLS-ZctKC",
    "outputId": "a53b0cbc-15d0-4e4e-eb6e-27a7a20e272a"
   },
   "outputs": [
    {
     "name": "stderr",
     "output_type": "stream",
     "text": [
      "d:\\venv\\lib\\site-packages\\ipykernel_launcher.py:46: UserWarning: Creating a tensor from a list of numpy.ndarrays is extremely slow. Please consider converting the list to a single numpy.ndarray with numpy.array() before converting to a tensor. (Triggered internally at  C:\\actions-runner\\_work\\pytorch\\pytorch\\builder\\windows\\pytorch\\torch\\csrc\\utils\\tensor_new.cpp:210.)\n"
     ]
    },
    {
     "data": {
      "text/plain": "<Figure size 432x288 with 1 Axes>",
      "image/png": "[encoded data removed]"
     },
     "metadata": {
      "needs_background": "light"
     },
     "output_type": "display_data"
    }
   ],
   "source": [
    "\n",
    "import sys\n",
    "import gym\n",
    "import numpy as np\n",
    "import pandas as pd\n",
    "import matplotlib.pyplot as plt\n",
    "\n",
    "Nx = 10\n",
    "Ny = 5\n",
    "M = 10\n",
    "T = 1000\n",
    "Pmax = 5\n",
    "d = 51\n",
    "num_states = Nx*Ny\n",
    "agent = DDPGagent(Nx*Ny, actor_learning_rate=1e-3, critic_learning_rate=1e-3, disc_fact=0.95, tau= 0.005, max_memory_size=50000)\n",
    "batch_size = 16\n",
    "rewards = []\n",
    "avg_rewards = []\n",
    "noise = OUNoise(Nx*Ny)\n",
    "\n",
    "for episode in range(50):\n",
    "    hr_ = np.matrix(rician_fading_h(2.8, 0, Nx, Ny, np.pi/6, np.pi/6, d))\n",
    "    G_ = np.matrix(rician_fading_G(2, np.inf, Nx ,Ny, M,np.pi/3, 5*np.pi/3, np.pi/6, d))\n",
    "    hd_ = np.matrix(rayleigh_fading(2.8, M, d))\n",
    "    angles = []\n",
    "    for i in range(Nx*Ny):\n",
    "      angles.append(2*np.pi*random.random())\n",
    "    angles, shifts = Phase_shifts(angles, Nx*Ny, hr_, G_, hd_, Pmax, 80)\n",
    "    #print(angles)\n",
    "    noise.reset()\n",
    "    snr = SNR(hr_, shifts, G_, hd_,  Pmax, 80)\n",
    "    #print(snr)\n",
    "    angles.append(snr)\n",
    "    state = np.matrix(angles)\n",
    "    #print(np.array(state)[0])\n",
    "    #noise = np.random.normal(loc=0, scale=np.sqrt(0.05), size=(Nx*Ny, 2)).view(np.complex128)\n",
    "    episode_reward = 0\n",
    "    \n",
    "    for step in range(T):\n",
    "        action = agent.get_action(state)\n",
    "        action__ = noise.get_action(action)\n",
    "        #print(action[0])\n",
    "        action_ = action__[0].tolist()\n",
    "        #print(action__)\n",
    "        new_angles, shifts = Phase_shifts(action_, Nx*Ny, hr, G, hd, Pmax, 80)\n",
    "        snr = SNR(hr_, shifts, G_, hd_,  Pmax, 80)\n",
    "        #print(snr)\n",
    "        new_angles.append(snr)\n",
    "        new_state = np.matrix(angles)\n",
    "        #print(new_state)\n",
    "        reward = new_state[:,-1].item()\n",
    "        agent.memory.push(np.array(state)[0], action__[0], reward, np.array(new_state)[0])\n",
    "        \n",
    "        if len(agent.memory) > batch_size:\n",
    "            agent.update(batch_size)        \n",
    "        \n",
    "        state = new_state\n",
    "        episode_reward += reward\n",
    "    rewards.append(episode_reward/T)\n",
    "    avg_rewards.append(np.mean(rewards[-10:]))\n",
    "\n",
    "plt.plot(rewards)\n",
    "plt.plot(avg_rewards)\n",
    "plt.plot()\n",
    "plt.xlabel('Episode')\n",
    "plt.ylabel('Reward')\n",
    "plt.grid()\n",
    "plt.show()"
   ]
  },
  {
   "cell_type": "code",
   "execution_count": 31,
   "metadata": {
    "colab": {
     "base_uri": "https://localhost:8080/"
    },
    "id": "n4CqdUEi19i6",
    "outputId": "6654f05c-e859-44a8-8a04-2c3b99ecaa11"
   },
   "outputs": [
    {
     "data": {
      "text/plain": "[11.85769839490786,\n 14.674182518428974,\n 2.9718361838528287,\n 10.252218570964589,\n 0.7089445996432557,\n 0.7419924824240499,\n 6.569504708839997,\n 0.16413554631036759,\n 1.9912592431834917,\n 11.840524175866923,\n 0.15466113056213562,\n 3.640387901995957,\n 2.953159760974963,\n 4.967008285424814,\n 0.43198158480850735,\n 5.025268729024062,\n 5.844934023460751,\n 0.8705601157922666,\n 14.20336438560308,\n 3.717747210735883,\n 1.2950406201142894,\n 1.798753037183072,\n 7.22933521588761,\n 3.3031886668992723,\n 3.7062847824882064,\n 1.696265338055517,\n 1.9188503696905057,\n 10.524801307265088,\n 10.062725553932248,\n 4.403819052611066,\n 3.998130899586268,\n 1.884475655583582,\n 11.541673879131839,\n 14.059718157638194,\n 0.3425049643328539,\n 3.5580737338329,\n 0.619261435076443,\n 2.8781599526800674,\n 4.861350587193558,\n 2.261338594230699,\n 2.483247684933746,\n 2.056238073859449,\n 0.8834669024950037,\n 3.977650830862301,\n 6.872237134371904,\n 1.1295122604111771,\n 4.4843659061089065,\n 4.924589873211593,\n 8.473966706488763,\n 0.3622227650863051]"
     },
     "execution_count": 31,
     "metadata": {},
     "output_type": "execute_result"
    }
   ],
   "source": [
    "rewards"
   ]
  },
  {
   "cell_type": "code",
   "execution_count": 59,
   "metadata": {
    "colab": {
     "base_uri": "https://localhost:8080/"
    },
    "id": "HXl1LE5jCcbF",
    "outputId": "d23d8d44-45d0-4276-b92b-a891a41b8642"
   },
   "outputs": [
    {
     "data": {
      "text/plain": "16.57340496489476"
     },
     "execution_count": 59,
     "metadata": {},
     "output_type": "execute_result"
    }
   ],
   "source": [
    "\n",
    "hr_ = np.matrix(rician_fading_h(2.8, 0, Nx, Ny, 5*np.pi/3, 2*np.pi/6, d))\n",
    "G_ = np.matrix(rician_fading_G(2, np.inf, Nx ,Ny, M,7*np.pi/4, 5*np.pi/6, np.pi/4, d))\n",
    "hd_ = np.matrix(rayleigh_fading(2.8, M, d))\n",
    "angles = []\n",
    "an = np.linspace(0, 1, 50)\n",
    "for i in an:\n",
    "  angles.append(2*np.pi*random.random())\n",
    "angles, shifts = Phase_shifts(angles, Nx*Ny, hr_, G_, hd_, Pmax, 80)\n",
    "snr = SNR(hr_, shifts, G_, hd_,  Pmax, 80)\n",
    "snr"
   ]
  },
  {
   "cell_type": "code",
   "execution_count": 60,
   "metadata": {
    "colab": {
     "base_uri": "https://localhost:8080/"
    },
    "id": "5ZxgPZgXwq82",
    "outputId": "50820703-0c9d-4558-e408-1067135b2312"
   },
   "outputs": [
    {
     "data": {
      "text/plain": "array([0.        , 0.02040816, 0.04081633, 0.06122449, 0.08163265,\n       0.10204082, 0.12244898, 0.14285714, 0.16326531, 0.18367347,\n       0.20408163, 0.2244898 , 0.24489796, 0.26530612, 0.28571429,\n       0.30612245, 0.32653061, 0.34693878, 0.36734694, 0.3877551 ,\n       0.40816327, 0.42857143, 0.44897959, 0.46938776, 0.48979592,\n       0.51020408, 0.53061224, 0.55102041, 0.57142857, 0.59183673,\n       0.6122449 , 0.63265306, 0.65306122, 0.67346939, 0.69387755,\n       0.71428571, 0.73469388, 0.75510204, 0.7755102 , 0.79591837,\n       0.81632653, 0.83673469, 0.85714286, 0.87755102, 0.89795918,\n       0.91836735, 0.93877551, 0.95918367, 0.97959184, 1.        ])"
     },
     "execution_count": 60,
     "metadata": {},
     "output_type": "execute_result"
    }
   ],
   "source": [
    "an"
   ]
  },
  {
   "cell_type": "code",
   "execution_count": 61,
   "metadata": {
    "colab": {
     "base_uri": "https://localhost:8080/"
    },
    "id": "vgoauVCaweRe",
    "outputId": "e2d83bcb-63b9-4246-9c2a-c638095f04f5"
   },
   "outputs": [
    {
     "data": {
      "text/plain": "matrix([[ 5.65825631e-02+0.00875702j],\n        [-1.03112798e-01+0.11536594j],\n        [-3.25177160e-02+0.15679882j],\n        [ 6.51570698e-02-0.17628601j],\n        [-4.14786109e-02+0.01313581j],\n        [-1.53109503e-02+0.30711442j],\n        [-6.65298356e-02-0.00225807j],\n        [-4.15708811e-05+0.01231519j],\n        [ 8.94843102e-02+0.18477872j],\n        [-2.04452079e-01+0.05069584j]])"
     },
     "execution_count": 61,
     "metadata": {},
     "output_type": "execute_result"
    }
   ],
   "source": [
    "hd_"
   ]
  },
  {
   "cell_type": "code",
   "execution_count": 62,
   "metadata": {
    "colab": {
     "base_uri": "https://localhost:8080/"
    },
    "id": "D-i5LCiLwSTf",
    "outputId": "517a0dfc-7357-4cf4-a594-c2a7e2ccd47d"
   },
   "outputs": [
    {
     "data": {
      "text/plain": "matrix([[6.12485493, 4.00137547, 1.54873707, 2.18692512, 0.20644559,\n         0.20763071, 5.09122371, 3.1892958 , 1.857173  , 3.99570607,\n         4.13773549, 5.409033  , 2.78661873, 0.33293015, 6.17955413,\n         1.34329924, 3.31783449, 2.04742156, 5.28913896, 0.50126206,\n         1.11450167, 4.63535699, 0.91671652, 3.22177249, 0.60760723,\n         4.01906489, 3.62094163, 3.29933598, 5.77934988, 5.32509918,\n         5.87267659, 0.53468615, 0.97831154, 1.01638815, 2.86913981,\n         3.59737787, 1.55083779, 1.54318558, 2.98527704, 4.69840072,\n         5.14054626, 3.88472174, 3.30369952, 0.7589289 , 5.81604832,\n         5.40623879, 3.2873384 , 4.76479811, 3.43370814, 3.44768253,\n         0.24335919]])"
     },
     "execution_count": 62,
     "metadata": {},
     "output_type": "execute_result"
    }
   ],
   "source": [
    "state"
   ]
  },
  {
   "cell_type": "code",
   "execution_count": 63,
   "metadata": {
    "colab": {
     "base_uri": "https://localhost:8080/"
    },
    "id": "xFOQXKzuClj3",
    "outputId": "e563eff1-2c3c-4abb-e527-2af3834d90ed"
   },
   "outputs": [
    {
     "data": {
      "text/plain": "matrix([[ 0.17994309-0.13133428j],\n        [-0.10287732+0.31996088j],\n        [ 0.40192202-0.16482812j],\n        [-0.75030294+0.01028051j],\n        [ 0.34174054+0.15184644j],\n        [-0.23509218+0.01466463j],\n        [ 0.34903883-0.43613189j],\n        [ 0.19345905-0.3059786j ]])"
     },
     "execution_count": 63,
     "metadata": {},
     "output_type": "execute_result"
    }
   ],
   "source": [
    "hd"
   ]
  },
  {
   "cell_type": "code",
   "execution_count": 64,
   "metadata": {
    "colab": {
     "base_uri": "https://localhost:8080/"
    },
    "id": "qYr8DKj5CWrg",
    "outputId": "43770d58-43e5-4e6e-bf41-cd58f6a1014d"
   },
   "outputs": [
    {
     "data": {
      "text/plain": "[11.466382299631599,\n 0.7658693587215948,\n 2.3446429012114907,\n 5.405182601944601,\n 0.8661484176861103,\n 0.7641473066873538,\n 24.98157439741317,\n 6.725214178934311,\n 1.5803829237993525,\n 1.2110128906151423,\n 1.3161491704936454,\n 3.7837601268870165,\n 0.10325663287273829,\n 8.149487651355015,\n 1.82022760883165,\n 2.8232804593465786,\n 2.3172573630202637,\n 5.301486681736951,\n 1.4351352171325455,\n 1.468869114993367,\n 0.70659628951076,\n 3.8941648362034362,\n 1.0420604135374547,\n 4.267596214675078,\n 2.78717372451424,\n 8.335384279132827,\n 2.218187170158387,\n 9.521781959218062,\n 0.388164758627984,\n 0.6560305658494021,\n 3.7886553970997676,\n 4.096974892953336,\n 6.002325970497564,\n 2.08034515959645,\n 3.1253760058199638,\n 1.813969705694505,\n 9.160634169809581,\n 0.8786320944977015,\n 1.395231824878853,\n 13.534078858775997,\n 2.685812467693309,\n 1.599045040085981,\n 1.288143578063137,\n 0.6351745014416547,\n 1.3059348666148016,\n 0.11636356053715563,\n 14.763283518027903,\n 1.5850958717173118,\n 1.76715384406772,\n 0.2433591852108563]"
     },
     "execution_count": 64,
     "metadata": {},
     "output_type": "execute_result"
    }
   ],
   "source": [
    "rewards"
   ]
  },
  {
   "cell_type": "code",
   "execution_count": 65,
   "metadata": {
    "id": "eeFL8SUozZGV"
   },
   "outputs": [],
   "source": [
    "def IRS_problem(d):\n",
    "  Nx = 10\n",
    "  Ny = 5\n",
    "  M = 10\n",
    "  T = 1000\n",
    "  Pmax = 5 \n",
    "  num_states = Nx*Ny\n",
    "  agent = DDPGagent(Nx*Ny, actor_learning_rate=1e-3, critic_learning_rate=1e-3, disc_fact=0.95, tau= 0.005, max_memory_size=50000)\n",
    "  batch_size = 16\n",
    "  rewards = []\n",
    "  avg_rewards = []\n",
    "\n",
    "  for episode in range(50):\n",
    "    hr_ = np.matrix(rician_fading_h(2.8, 0, Nx, Ny, np.pi/6, np.pi/6, d))\n",
    "    G_ = np.matrix(rician_fading_G(2, np.inf, Nx ,Ny, M,np.pi/3, 5*np.pi/3, np.pi/6, d))\n",
    "    hd_ = np.matrix(rayleigh_fading(2.8, M, d))\n",
    "    angles = []\n",
    "    for i in range(Nx*Ny):\n",
    "      angles.append(2*np.pi*random.random())\n",
    "    angles, shifts = Phase_shifts(angles, Nx*Ny, hr_, G_, hd_, Pmax, 80)\n",
    "    snr = SNR(hr_, shifts, G_, hd_,  Pmax, 80)\n",
    "    #print(snr)\n",
    "    angles.append(snr)\n",
    "    state = np.matrix(angles)\n",
    "    #print(np.array(state)[0])\n",
    "    noise = np.random.normal(loc=0, scale=np.sqrt(0.05), size=(Nx*Ny, 2)).view(np.complex128)\n",
    "    episode_reward = 0\n",
    "    \n",
    "    for step in range(T):\n",
    "      action = agent.get_action(state)\n",
    "      noise = noise.reshape(action.shape)\n",
    "      action = action + noise\n",
    "      #print(action[0])\n",
    "      action_ = action[0].tolist()\n",
    "      new_angles, shifts = Phase_shifts(action_, Nx*Ny, hr_, G_, hd_, Pmax, 80)\n",
    "      snr = SNR(hr_, shifts, G_, hd_,  Pmax, 80)\n",
    "      new_angles.append(snr)\n",
    "      new_state = np.matrix(angles)\n",
    "      #print(new_state)\n",
    "      reward = new_state[:,-1].item()\n",
    "      agent.memory.push(np.array(state)[0], action[0], reward, np.array(new_state)[0])\n",
    "      if len(agent.memory) > batch_size:\n",
    "        agent.update(batch_size)        \n",
    "      state = new_state\n",
    "      episode_reward += reward\n",
    "    rewards.append(episode_reward/T)\n",
    "    avg_rewards.append(np.mean(rewards[-10:]))\n",
    "  return np.mean(rewards)\n"
   ]
  },
  {
   "cell_type": "code",
   "execution_count": 66,
   "metadata": {
    "colab": {
     "base_uri": "https://localhost:8080/"
    },
    "id": "kpVRZFsEapfd",
    "outputId": "a8d5864e-c5b4-46b4-c045-2bd061479f0b"
   },
   "outputs": [
    {
     "data": {
      "text/plain": "[5.730035763926955,\n 6.12755030144681,\n 1.0823418062684762,\n 4.3618914970952005,\n 0.7063551250515459,\n 3.7765438079128586,\n 4.150973610045587,\n 0.38772754559600126,\n 2.966488423772094,\n 6.1451408593712165,\n 0.09353898264257843,\n 5.527938773553449,\n 1.4937923924638306,\n 3.6080904828815754,\n 3.1489829653495,\n 0.21675909380542377,\n 1.7027055271257283,\n 0.020752652264766993,\n 4.232565861834922,\n 2.5583075123186805,\n 4.032460433350499,\n 1.6149574395534754,\n 5.502387193693263,\n 0.14109198239105025,\n 3.4735049627937555,\n 5.411792248941319,\n 4.111843515040543,\n 6.148396857238695,\n 2.333179859989094,\n 2.3323557961717705,\n 2.5415407760312654,\n 1.1391723007649133,\n 0.25884264889786146,\n 0.06913011570581319,\n 0.02032119016800154,\n 3.3316320862763646,\n 3.4210478826107593,\n 6.0125152515334666,\n 5.199969173372647,\n 1.9143274731246804,\n 5.114587398086041,\n 4.020312534292819,\n 5.646717830680228,\n 5.043167380152094,\n 1.4621835753869643,\n 5.441584708886457,\n 4.397091303209639,\n 0.8188916784804855,\n 2.0931130459270326,\n 5.315344718019152]"
     },
     "execution_count": 66,
     "metadata": {},
     "output_type": "execute_result"
    }
   ],
   "source": [
    "angles"
   ]
  },
  {
   "cell_type": "code",
   "execution_count": 67,
   "metadata": {
    "colab": {
     "base_uri": "https://localhost:8080/"
    },
    "id": "vxEF2jbxviRW",
    "outputId": "8782ebed-6da3-40d7-ff73-ba4a5ef4e899"
   },
   "outputs": [
    {
     "name": "stderr",
     "output_type": "stream",
     "text": [
      "d:\\venv\\lib\\site-packages\\ipykernel_launcher.py:48: ComplexWarning: Casting complex values to real discards the imaginary part\n"
     ]
    }
   ],
   "source": [
    "d_ = np.linspace(35, 100, 8)\n",
    "snr = []\n",
    "for d in d_:\n",
    "  rew = IRS_problem(d)\n",
    "  snr.append(rew)\n"
   ]
  },
  {
   "cell_type": "code",
   "execution_count": 68,
   "metadata": {
    "colab": {
     "base_uri": "https://localhost:8080/",
     "height": 260
    },
    "id": "vJP2DAYd7KJ1",
    "outputId": "fb862502-255c-4164-9705-3ec2fc4a1cf1"
   },
   "outputs": [
    {
     "ename": "AttributeError",
     "evalue": "'float' object has no attribute 'item'",
     "output_type": "error",
     "traceback": [
      "\u001B[1;31m---------------------------------------------------------------------------\u001B[0m",
      "\u001B[1;31mAttributeError\u001B[0m                            Traceback (most recent call last)",
      "\u001B[1;32m<ipython-input-68-da9ec3330de3>\u001B[0m in \u001B[0;36m<module>\u001B[1;34m\u001B[0m\n\u001B[0;32m      3\u001B[0m   \u001B[0mangles\u001B[0m\u001B[1;33m.\u001B[0m\u001B[0mappend\u001B[0m\u001B[1;33m(\u001B[0m\u001B[1;36m2\u001B[0m\u001B[1;33m*\u001B[0m\u001B[0mnp\u001B[0m\u001B[1;33m.\u001B[0m\u001B[0mpi\u001B[0m\u001B[1;33m*\u001B[0m\u001B[0mrandom\u001B[0m\u001B[1;33m.\u001B[0m\u001B[0mrandom\u001B[0m\u001B[1;33m(\u001B[0m\u001B[1;33m)\u001B[0m\u001B[1;33m)\u001B[0m\u001B[1;33m\u001B[0m\u001B[1;33m\u001B[0m\u001B[0m\n\u001B[0;32m      4\u001B[0m \u001B[0mangles\u001B[0m\u001B[1;33m,\u001B[0m \u001B[0mshifts\u001B[0m \u001B[1;33m=\u001B[0m \u001B[0mPhase_shifts\u001B[0m\u001B[1;33m(\u001B[0m\u001B[0mangles\u001B[0m\u001B[1;33m,\u001B[0m \u001B[0mNx\u001B[0m\u001B[1;33m*\u001B[0m\u001B[0mNy\u001B[0m\u001B[1;33m,\u001B[0m \u001B[0mhr_\u001B[0m\u001B[1;33m,\u001B[0m \u001B[0mG_\u001B[0m\u001B[1;33m,\u001B[0m \u001B[0mhd_\u001B[0m\u001B[1;33m,\u001B[0m \u001B[0mPmax\u001B[0m\u001B[1;33m,\u001B[0m \u001B[1;36m80\u001B[0m\u001B[1;33m)\u001B[0m\u001B[1;33m\u001B[0m\u001B[1;33m\u001B[0m\u001B[0m\n\u001B[1;32m----> 5\u001B[1;33m \u001B[0msnr\u001B[0m \u001B[1;33m=\u001B[0m \u001B[0mSNR\u001B[0m\u001B[1;33m(\u001B[0m\u001B[0mhr_\u001B[0m\u001B[1;33m,\u001B[0m \u001B[0mshifts\u001B[0m\u001B[1;33m,\u001B[0m \u001B[0mG_\u001B[0m\u001B[1;33m,\u001B[0m \u001B[0mhd_\u001B[0m\u001B[1;33m,\u001B[0m  \u001B[0mPmax\u001B[0m\u001B[1;33m,\u001B[0m \u001B[1;36m80\u001B[0m\u001B[1;33m)\u001B[0m\u001B[1;33m.\u001B[0m\u001B[0mitem\u001B[0m\u001B[1;33m(\u001B[0m\u001B[1;33m)\u001B[0m\u001B[1;33m\u001B[0m\u001B[1;33m\u001B[0m\u001B[0m\n\u001B[0m",
      "\u001B[1;31mAttributeError\u001B[0m: 'float' object has no attribute 'item'"
     ]
    }
   ],
   "source": [
    "angles = []\n",
    "for i in range(Nx*Ny):\n",
    "  angles.append(2*np.pi*random.random())\n",
    "angles, shifts = Phase_shifts(angles, Nx*Ny, hr_, G_, hd_, Pmax, 80)\n",
    "snr = SNR(hr_, shifts, G_, hd_,  Pmax, 80).item()"
   ]
  },
  {
   "cell_type": "code",
   "execution_count": null,
   "metadata": {
    "colab": {
     "base_uri": "https://localhost:8080/",
     "height": 295
    },
    "id": "fioz0QFazdmI",
    "outputId": "b308477e-7fda-4435-c57c-f8f2daf52b9d"
   },
   "outputs": [],
   "source": [
    "plt.plot(d_, snr)\n",
    "plt.xlabel(\"distance, d(m)\")\n",
    "plt.ylabel(\"SNR(reward)\")\n",
    "plt.title(\"Recieved SNR vs. BS-User horizontal distance\")\n",
    "plt.grid()\n",
    "plt.show()"
   ]
  },
  {
   "cell_type": "code",
   "execution_count": null,
   "metadata": {
    "colab": {
     "base_uri": "https://localhost:8080/",
     "height": 295
    },
    "id": "yoMN6b13LnuP",
    "outputId": "2d0cbdb0-1b98-494d-bca8-9078c129ebd1"
   },
   "outputs": [],
   "source": [
    "plt.plot(d_, snr)\n",
    "plt.xlabel(\"distance, d(m)\")\n",
    "plt.ylabel(\"SNR(reward)\")\n",
    "plt.title(\"Recieved SNR vs. BS-User horizontal distance\")\n",
    "plt.grid()\n",
    "plt.show()"
   ]
  },
  {
   "cell_type": "code",
   "execution_count": null,
   "metadata": {
    "id": "5PdhtXwG1qXA"
   },
   "outputs": [],
   "source": [
    "def IRS_problem(Ny):\n",
    "  Nx = 10\n",
    "  M = 10\n",
    "  T = 1000\n",
    "  d = 90\n",
    "  Pmax = 5 \n",
    "  num_states = Nx*Ny\n",
    "  #print(num_states)\n",
    "  #print(Nx*Ny)\n",
    "  agent = DDPGagent(Nx*Ny, actor_learning_rate=1e-3, critic_learning_rate=1e-3, disc_fact=0.95, tau= 0.005, max_memory_size=50000)\n",
    "  batch_size = 16\n",
    "  rewards = []\n",
    "  avg_rewards = []\n",
    "\n",
    "  for episode in range(50):\n",
    "    hr_ = np.matrix(rician_fading_h(2.8, 0, Nx, Ny, np.pi/6, np.pi/6, d))\n",
    "    G_ = np.matrix(rician_fading_G(2, np.inf, Nx ,Ny, M,np.pi/3, 5*np.pi/3, np.pi/6, d))\n",
    "    hd_ = np.matrix(rayleigh_fading(2.8, M, d))\n",
    "    angles = []\n",
    "    for i in range(Nx*Ny):\n",
    "      angles.append(2*np.pi*random.random())\n",
    "    angles, shifts = Phase_shifts(angles, Nx*Ny, hr_, G_, hd_, Pmax, 80)\n",
    "    snr = SNR(hr_, shifts, G_, hd_,  Pmax, 80)\n",
    "    #print(snr)\n",
    "    angles.append(snr)\n",
    "    state = np.matrix(angles)\n",
    "    #print(np.array(state)[0])\n",
    "    noise = np.random.normal(loc=0, scale=np.sqrt(0.05), size=(Nx*Ny, 2)).view(np.complex128)\n",
    "    episode_reward = 0\n",
    "    \n",
    "    for step in range(T):\n",
    "      action = agent.get_action(state)\n",
    "      noise = noise.reshape(action.shape)\n",
    "      action = action + noise\n",
    "      #print(action[0])\n",
    "      action_ = action[0].tolist()\n",
    "      new_angles, shifts = Phase_shifts(action_, Nx*Ny, hr_, G_, hd_, Pmax, 80)\n",
    "      snr = SNR(hr_, shifts, G_, hd_,  Pmax, 80)\n",
    "      new_angles.append(snr)\n",
    "      new_state = np.matrix(angles)\n",
    "      #print(new_state)\n",
    "      reward = new_state[:,-1].item()\n",
    "      agent.memory.push(np.array(state)[0], action[0], reward, np.array(new_state)[0])\n",
    "      if len(agent.memory) > batch_size:\n",
    "        agent.update(batch_size)        \n",
    "      state = new_state\n",
    "      episode_reward += reward\n",
    "    rewards.append(episode_reward/T)\n",
    "    avg_rewards.append(np.mean(rewards[-10:]))\n",
    "  return np.mean(rewards)\n"
   ]
  },
  {
   "cell_type": "code",
   "execution_count": null,
   "metadata": {
    "id": "HUzg8WDjz962"
   },
   "outputs": [],
   "source": [
    "snr1 = snr"
   ]
  },
  {
   "cell_type": "code",
   "execution_count": null,
   "metadata": {
    "colab": {
     "base_uri": "https://localhost:8080/"
    },
    "id": "TeVTjf_oIiou",
    "outputId": "9a5850ef-61a7-462f-8221-4c5977637b01"
   },
   "outputs": [],
   "source": [
    "N = [2, 3, 4, 5, 6, 7]\n",
    "snr_ = []\n",
    "for Ny in N:\n",
    "  rew = IRS_problem(Ny)\n",
    "  snr_.append(rew)\n"
   ]
  },
  {
   "cell_type": "code",
   "execution_count": null,
   "metadata": {
    "id": "pivp9D1RD7LH"
   },
   "outputs": [],
   "source": [
    "for i in range(len(N)):\n",
    "  N[i] = 10* N[i]"
   ]
  },
  {
   "cell_type": "code",
   "execution_count": null,
   "metadata": {
    "colab": {
     "base_uri": "https://localhost:8080/",
     "height": 295
    },
    "id": "AlDpXgT8Chpd",
    "outputId": "2e429900-eff9-4a53-87f0-587ce10af0c4"
   },
   "outputs": [],
   "source": [
    "plt.plot(N, snr_)\n",
    "plt.xlabel(\"Number of elements at IRS, N\")\n",
    "plt.ylabel(\"SNR(reward)\")\n",
    "plt.title(\"Recieved SNR vs. Number of elements in IRS\")\n",
    "plt.grid()\n",
    "plt.show()"
   ]
  },
  {
   "cell_type": "code",
   "execution_count": null,
   "metadata": {
    "colab": {
     "base_uri": "https://localhost:8080/"
    },
    "id": "TgHUhP94-hSK",
    "outputId": "a7f0e904-400a-4c91-e4da-d8b14fd8e193"
   },
   "outputs": [],
   "source": [
    "action = agent.get_action(np.matrix(angles))\n",
    "action"
   ]
  },
  {
   "cell_type": "code",
   "execution_count": null,
   "metadata": {
    "id": "z2j3JkEJ-tt7"
   },
   "outputs": [],
   "source": [
    "action = action + np.random.normal(loc=0, scale=np.sqrt(0.05), size=(Nx*Ny, 2)).view(np.complex128)"
   ]
  },
  {
   "cell_type": "code",
   "execution_count": null,
   "metadata": {
    "id": "KouUvcH_-ujo"
   },
   "outputs": [],
   "source": [
    "action_ = action[0].tolist()\n",
    "new_angles, shifts = Phase_shifts(action_, Nx*Ny, hr, G, hd, Pmax, 80)"
   ]
  },
  {
   "cell_type": "code",
   "execution_count": null,
   "metadata": {
    "id": "M3OZbVPyHup5"
   },
   "outputs": [],
   "source": [
    "snr = SNR(hr_, shifts, G_, hd_,  Pmax, 80).item()"
   ]
  },
  {
   "cell_type": "code",
   "execution_count": null,
   "metadata": {
    "colab": {
     "base_uri": "https://localhost:8080/"
    },
    "id": "1bL2cr5XIYHF",
    "outputId": "d4d4a742-68cf-4cdb-ea8d-ca50b03bc965"
   },
   "outputs": [],
   "source": [
    "np.matmul(sum, sum.getH())"
   ]
  },
  {
   "cell_type": "code",
   "execution_count": null,
   "metadata": {
    "id": "pjRxe0RCIYsq"
   },
   "outputs": [],
   "source": [
    "sum = np.matmul(np.matmul(hr_.getH(), shifts), G_) + hd_.getH()\n",
    "b = np.sqrt(Pmax)* sum.getH() / np.matmul(sum, sum.getH()).item()\n"
   ]
  },
  {
   "cell_type": "code",
   "execution_count": null,
   "metadata": {
    "id": "vv9WkMANKoOj"
   },
   "outputs": [],
   "source": [
    "hr_ = np.matrix(rician_fading_h(2.8, 10, Nx, Ny, 5*np.pi/3, 2*np.pi/6, d))\n",
    "G_ = np.matrix(rician_fading_G(2, 10, Nx ,Ny, M,7*np.pi/4, 5*np.pi/6, np.pi/4, d))\n",
    "hd_ = np.matrix(rayleigh_fading(2.8, M, d))"
   ]
  },
  {
   "cell_type": "code",
   "execution_count": null,
   "metadata": {
    "colab": {
     "base_uri": "https://localhost:8080/"
    },
    "id": "C4-M3UlbKoOl",
    "outputId": "a5fbdc65-95a4-4bbf-b2cc-83e7005cae73"
   },
   "outputs": [],
   "source": [
    "angles = []\n",
    "coeff = np.linspace(0, 2, Nx*Ny)\n",
    "for i in range(Nx*Ny):\n",
    "  angles.append(np.pi*coeff[i])\n",
    "angles, shifts = Phase_shifts(angles, Nx*Ny, hr_, G_, hd_, Pmax, 80)\n",
    "snr = SNR(hr_, shifts, G_, hd_,  Pmax, 80).item()\n",
    "snr"
   ]
  },
  {
   "cell_type": "code",
   "execution_count": null,
   "metadata": {
    "colab": {
     "base_uri": "https://localhost:8080/",
     "height": 204
    },
    "id": "7NG_YArkKqTt",
    "outputId": "aeacb0a4-f7ea-4729-87f8-6cbded61731d"
   },
   "outputs": [],
   "source": [
    "sum = np.matmul(np.matmul(hr_.getH(), shifts), G_) + hd_.getH()\n",
    "b = np.sqrt(Pmax)* sum.getH() / np.sqrt(np.matmul(sum, sum.getH()).item())\n",
    "np.matmul()"
   ]
  },
  {
   "cell_type": "code",
   "execution_count": null,
   "metadata": {
    "id": "5xhbYDXoKuBf"
   },
   "outputs": [],
   "source": [
    "T = state[0][0]"
   ]
  },
  {
   "cell_type": "code",
   "execution_count": null,
   "metadata": {
    "colab": {
     "base_uri": "https://localhost:8080/"
    },
    "id": "DAZ6LcHYEirQ",
    "outputId": "de220ca5-8167-4fb7-9f0d-e1696d52d26d"
   },
   "outputs": [],
   "source": [
    "(1/np.pi)*state"
   ]
  },
  {
   "cell_type": "code",
   "execution_count": null,
   "metadata": {
    "colab": {
     "base_uri": "https://localhost:8080/"
    },
    "id": "ydailbUCEz7l",
    "outputId": "6d72fd50-cd0f-4f93-dfd8-ca099a39ce56"
   },
   "outputs": [],
   "source": [
    "T.tolist()[0]"
   ]
  },
  {
   "cell_type": "code",
   "execution_count": null,
   "metadata": {
    "id": "3TbgYBAFFHJ9"
   },
   "outputs": [],
   "source": []
  }
 ],
 "metadata": {
  "colab": {
   "collapsed_sections": [],
   "name": "DRL for IRS.ipynb",
   "provenance": []
  },
  "kernelspec": {
   "display_name": "Python 3 (ipykernel)",
   "language": "python",
   "name": "python3"
  },
  "language_info": {
   "codemirror_mode": {
    "name": "ipython",
    "version": 3
   },
   "file_extension": ".py",
   "mimetype": "text/x-python",
   "name": "python",
   "nbconvert_exporter": "python",
   "pygments_lexer": "ipython3",
   "version": "3.7.9"
  }
 },
 "nbformat": 4,
 "nbformat_minor": 1
}